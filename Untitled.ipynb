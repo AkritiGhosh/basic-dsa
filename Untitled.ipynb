{
 "cells": [
  {
   "cell_type": "markdown",
   "id": "3e98a263-0f7f-4f33-9395-2ba4d5683dda",
   "metadata": {},
   "source": [
    "# Graph\n",
    "Non-linear data structure, consisting of vertices and edges connecting them. Denoted using an -\n",
    "\n",
    "1. ADJACENCY LIST - A dictionary where keys -> vertices and values -> list of vertices connected to it\n",
    "2. ADJACENCY MATRIX - Matrix of dimensions n*n where n is the number of vertices. Each row & column denotes a vertex and if a is connected to b then matrix(a,b) = 1, otherwise 0"
   ]
  },
  {
   "cell_type": "code",
   "execution_count": 11,
   "id": "d873b511-2518-41c7-9ea8-f3ca21d89ff1",
   "metadata": {},
   "outputs": [],
   "source": [
    "from ds_stack_queue import Queue\n",
    "from ds_stack_queue import Stack\n",
    "import numpy as np"
   ]
  },
  {
   "cell_type": "code",
   "execution_count": 4,
   "id": "658fd7c9-9ce4-42fc-8d4b-7a5484df0aaa",
   "metadata": {},
   "outputs": [],
   "source": [
    "graph = {\n",
    "10: [20,50],\n",
    "20: [40],\n",
    "30: [10],\n",
    "40: [30],\n",
    "50: [30, 40, 20]\n",
    "}\n",
    "    "
   ]
  },
  {
   "cell_type": "code",
   "execution_count": 21,
   "id": "747f0ffc-d724-4825-8a7e-6133be029355",
   "metadata": {},
   "outputs": [],
   "source": [
    "def adj_list_to_matrix(graph):\n",
    "    keys = list(graph.keys())\n",
    "    graph_matrix = np.zeros((5,5))\n",
    "    for i in keys:\n",
    "        for j in graph[i]:\n",
    "            graph_matrix[keys.index(i)][keys.index(j)] = 1\n",
    "\n",
    "    return graph_matrix, keys"
   ]
  },
  {
   "cell_type": "code",
   "execution_count": 25,
   "id": "0d41b027-7f69-48ca-a5ef-003f82c34c97",
   "metadata": {},
   "outputs": [
    {
     "name": "stdout",
     "output_type": "stream",
     "text": [
      "From adjacency list -  {10: [20, 50], 20: [40], 30: [10], 40: [30], 50: [30, 40, 20]}\n",
      "To matrix - \n",
      "[[0. 1. 0. 0. 1.]\n",
      " [0. 0. 0. 1. 0.]\n",
      " [1. 0. 0. 0. 0.]\n",
      " [0. 0. 1. 0. 0.]\n",
      " [0. 1. 1. 1. 0.]]\n",
      "With indices of row[L->R] & columns[T->B] [10, 20, 30, 40, 50]\n"
     ]
    }
   ],
   "source": [
    "matrix, key_list = adj_list_to_matrix(graph)\n",
    "print('From adjacency list - ', graph)\n",
    "print('To matrix - ')\n",
    "print(matrix)\n",
    "print('With indices of row[L->R] & columns[T->B]', key_list)"
   ]
  },
  {
   "cell_type": "code",
   "execution_count": null,
   "id": "26b241ad-da2e-4c6f-9e6a-9af8e588b1f8",
   "metadata": {},
   "outputs": [],
   "source": []
  }
 ],
 "metadata": {
  "kernelspec": {
   "display_name": "Python 3 (ipykernel)",
   "language": "python",
   "name": "python3"
  },
  "language_info": {
   "codemirror_mode": {
    "name": "ipython",
    "version": 3
   },
   "file_extension": ".py",
   "mimetype": "text/x-python",
   "name": "python",
   "nbconvert_exporter": "python",
   "pygments_lexer": "ipython3",
   "version": "3.9.7"
  }
 },
 "nbformat": 4,
 "nbformat_minor": 5
}
