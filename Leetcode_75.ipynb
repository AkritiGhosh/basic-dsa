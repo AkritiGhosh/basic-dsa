{
  "nbformat": 4,
  "nbformat_minor": 0,
  "metadata": {
    "colab": {
      "provenance": [],
      "authorship_tag": "ABX9TyOaf693CwVkAPD4nZPVOrS2",
      "include_colab_link": true
    },
    "kernelspec": {
      "name": "python3",
      "display_name": "Python 3"
    },
    "language_info": {
      "name": "python"
    }
  },
  "cells": [
    {
      "cell_type": "markdown",
      "metadata": {
        "id": "view-in-github",
        "colab_type": "text"
      },
      "source": [
        "<a href=\"https://colab.research.google.com/github/AkritiGhosh/basic-dsa/blob/main/Leetcode_75.ipynb\" target=\"_parent\"><img src=\"https://colab.research.google.com/assets/colab-badge.svg\" alt=\"Open In Colab\"/></a>"
      ]
    },
    {
      "cell_type": "markdown",
      "source": [
        "You are given two strings word1 and word2. Merge the strings by adding letters in alternating order, starting with word1. If a string is longer than the other, append the additional letters onto the end of the merged string.\n",
        "\n",
        "Return the merged string.\n",
        "\n",
        "\n",
        "\n",
        "# Example 1:\n",
        "\n",
        "Input: word1 = \"abc\", word2 = \"pqr\"\n",
        "\n",
        "Output: \"apbqcr\"\n",
        "\n",
        "Explanation: The merged string will be merged as so:\n",
        "\n",
        "word1:  a   b   c\n",
        "\n",
        "word2:    p   q   r\n",
        "\n",
        "merged: a p b q c r\n",
        "\n",
        "\n",
        "\n",
        "# Example 2:\n",
        "\n",
        "Input: word1 = \"ab\", word2 = \"pqrs\"\n",
        "\n",
        "Output: \"apbqrs\"\n",
        "\n",
        "Explanation: Notice that as word2 is longer, \"rs\" is appended to the end.\n",
        "\n",
        "word1:  a   b\n",
        "\n",
        "word2:    p   q   r   s\n",
        "\n",
        "merged: a p b q   r   s\n",
        "\n",
        "\n",
        "# Example 3:\n",
        "\n",
        "Input: word1 = \"abcd\", word2 = \"pq\"\n",
        "\n",
        "Output: \"apbqcd\"\n",
        "\n",
        "Explanation: Notice that as word1 is longer, \"cd\" is appended to the end.\n",
        "\n",
        "word1:  a   b   c   d\n",
        "\n",
        "word2:    p   q\n",
        "\n",
        "merged: a p b q c   d\n",
        "\n",
        "\n",
        "Constraints:\n",
        "\n",
        "1 <= word1.length, word2.length <= 100\n",
        "\n",
        "word1 and word2 consist of lowercase English letters."
      ],
      "metadata": {
        "id": "jBaBmj0_sFrl"
      }
    },
    {
      "cell_type": "code",
      "execution_count": null,
      "metadata": {
        "id": "auxREAV-r0JW"
      },
      "outputs": [],
      "source": [
        "def mergeAlternately(self, word1: str, word2: str) -> str:\n",
        "    if (len(word1) <= 0) :\n",
        "        return word2\n",
        "    if (len(word2) <= 0) :\n",
        "        return word1\n",
        "    sol = ''\n",
        "    iter = max(len(word1), len(word2))\n",
        "    for i in range(iter):\n",
        "        try :\n",
        "            sol += word1[i]\n",
        "        except :\n",
        "            sol += word2[i:]\n",
        "            break\n",
        "        try :\n",
        "            sol += word2[i]\n",
        "        except :\n",
        "            sol += word1[i+1:]\n",
        "            break\n",
        "    return sol\n",
        ""
      ]
    },
    {
      "cell_type": "code",
      "source": [
        "def mergeAlternately(self, word1: str, word2: str) -> str:\n",
        "    if (len(word1) <= 0) :\n",
        "        return word2\n",
        "    if (len(word2) <= 0) :\n",
        "        return word1\n",
        "    sol = ''\n",
        "    iter = min(len(word1), len(word2))\n",
        "    for i in range(iter):\n",
        "      sol += word1[i]\n",
        "      sol += word2[i]\n",
        "    if (len(word1) > len(word2)):\n",
        "\n",
        "    return sol\n",
        ""
      ],
      "metadata": {
        "id": "5jTdZEf3sgF3"
      },
      "execution_count": null,
      "outputs": []
    }
  ]
}