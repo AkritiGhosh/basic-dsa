{
 "cells": [
  {
   "cell_type": "markdown",
   "id": "ffd3427c-b113-4946-8888-54ea6f885bf5",
   "metadata": {},
   "source": [
    "<img src=\"sorting-comp.png\" alt=\"time complexity\" style=\"width:800px;\"/>"
   ]
  },
  {
   "cell_type": "code",
   "execution_count": null,
   "id": "e5f7e672-d249-43c1-a764-a89a711fe757",
   "metadata": {},
   "outputs": [],
   "source": [
    "def selection_sort(arr):\n",
    "  n = len(arr)\n",
    "  for i in range(n):\n",
    "    for j in range(n):\n",
    "      if arr[i]<arr[j] :\n",
    "        arr[i],arr[j] = arr[j],arr[i] \n",
    "  return arr"
   ]
  },
  {
   "cell_type": "code",
   "execution_count": null,
   "id": "d190599b-b66e-4dfe-bb14-3b89f48b31e2",
   "metadata": {},
   "outputs": [],
   "source": [
    "def bubble_sort(arr):\n",
    "  n = len(arr)\n",
    "  for i in range(n):\n",
    "    for j in range(i):\n",
    "      if arr[i]<arr[j] :\n",
    "        arr[i],arr[j] = arr[j],arr[i] \n",
    "  return arr"
   ]
  },
  {
   "cell_type": "code",
   "execution_count": null,
   "id": "877a8c10-6d86-4b5b-a384-9b3846816549",
   "metadata": {},
   "outputs": [],
   "source": [
    "def insertion_sort(arr):\n",
    "  n = len(arr)\n",
    "  for i in range(n):\n",
    "    j = i-1\n",
    "    while j >0 and arr[i] < arr[j]:\n",
    "        arr[j+1] = arr[j]\n",
    "        j-=1\n",
    "    arr[j+1] = arr[i]\n",
    "  return arr"
   ]
  },
  {
   "cell_type": "code",
   "execution_count": null,
   "id": "b2e78a27-0d2e-444d-970b-68f4b26d431d",
   "metadata": {},
   "outputs": [],
   "source": [
    "def quick_sort(arr):\n",
    "    n = len(arr)\n",
    "    #Base case\n",
    "    if n < 2:\n",
    "        return arr\n",
    "    \n",
    "    idx = 0 \n",
    "    for i in range(1, n):\n",
    "         if arr[i] <= arr[0]:\n",
    "              idx += 1\n",
    "              arr[i], arr[idx] = arr[idx], arr[i]\n",
    "\n",
    "    arr[0], arr[idx]  = arr[idx], arr[0] \n",
    "    # print(idx, arr, arr[0:idx],arr[idx+1:n])\n",
    "    left = quick_sort(arr[0:idx]) \n",
    "    right = quick_sort(arr[idx+1:n]) \n",
    "    arr = left + [arr[idx]] + right\n",
    "    return arr\n"
   ]
  },
  {
   "cell_type": "code",
   "execution_count": null,
   "id": "3cb4a7de-4732-429e-9479-0fdf91307d24",
   "metadata": {},
   "outputs": [],
   "source": [
    "def merge_sort(arr):\n",
    "  if len(arr) > 1 :\n",
    "    m = len(arr)//2\n",
    "    left = arr[:m]\n",
    "    right = arr[m:]\n",
    "    merge_sort(left)\n",
    "    merge_sort(right)\n",
    "    # Merging\n",
    "    # print(arr, left, right)\n",
    "    i = j = k = 0\n",
    "    while i < len(left) and j < len(right):\n",
    "      if left[i] < right[j]:\n",
    "        arr[k] = left[i]\n",
    "        i+=1\n",
    "      else:\n",
    "        arr[k] = right[j]\n",
    "        j+=1\n",
    "      k+=1\n",
    "    while i < len(left):\n",
    "      arr[k] = left[i]\n",
    "      i+=1\n",
    "      k+=1\n",
    "    \n",
    "    while j < len(right):\n",
    "      arr[k] = right[j]\n",
    "      j+=1\n",
    "      k+=1\n",
    "    return arr\n"
   ]
  },
  {
   "cell_type": "code",
   "execution_count": null,
   "id": "0ca0605a-8688-4962-bd59-f6267f84412a",
   "metadata": {},
   "outputs": [],
   "source": [
    "# Does not work for floating values\n",
    "def count_sort(arr):\n",
    "  minv = int(min(arr))\n",
    "  count = [0 for _ in range(int(max(arr))-minv+1)]\n",
    "  # print(minv, count)\n",
    "  for i in arr:\n",
    "    count[int(i)-minv] += 1\n",
    "  # print(minv, len(count), count)\n",
    "  for i in range(1, len(count)):\n",
    "    count[i]+= count[i-1]\n",
    "  ans = [0 for _ in arr]\n",
    "  # print(len(arr), len(ans))\n",
    "  for i in range(len(arr)):\n",
    "    idx = count[int(arr[i])-minv] - 1\n",
    "    # print(idx, ans)\n",
    "    ans[idx] = arr[i]\n",
    "    count[int(arr[i])-minv]-=1\n",
    "  return ans\n"
   ]
  },
  {
   "cell_type": "code",
   "execution_count": null,
   "id": "56055018-fee4-4602-a404-94d768cd5a2b",
   "metadata": {},
   "outputs": [],
   "source": [
    "def bucket_sort(arr):\n",
    "  no = 10\n",
    "  minv = int(min(arr))\n",
    "  range_bucket = (int(max(arr)) - minv )// no\n",
    "  # print(range_bucket)\n",
    "  bucket = []\n",
    "  for _ in arr:\n",
    "    bucket.append([])\n",
    "  for i in range(len(arr)):\n",
    "    idx = (int(arr[i]) - minv)//range_bucket\n",
    "    # print(int(arr[i]) - minv ,idx)\n",
    "    if (arr[i] == minv):\n",
    "      bucket[idx].append(arr[i])\n",
    "    else:\n",
    "      bucket[idx-1].append(arr[i])\n",
    "  for i in bucket:\n",
    "    i.sort()\n",
    "    # print(i)\n",
    "  ans = []\n",
    "  for i in bucket:\n",
    "    if len(i)==0:\n",
    "      continue\n",
    "    for j in i:\n",
    "      ans.append(j)\n",
    "  \n",
    "  return ans\n"
   ]
  },
  {
   "cell_type": "code",
   "execution_count": null,
   "id": "f0df28da-e9e7-4f4a-9206-6c3096fed6ff",
   "metadata": {},
   "outputs": [],
   "source": [
    "\n",
    "\n",
    "\n",
    "lst = [10.5, -30, 40, 50.6, 20, 0, 50.2, 70, 60, 10]\n",
    "# lst = [float(z) for z in input().split(' ')]\n",
    "print(selection_sort(lst))\n",
    "print(bubble_sort(lst))\n",
    "print(quick_sort(lst))\n",
    "print(insertion_sort(lst))\n",
    "print(merge_sort(lst))\n",
    "print(count_sort(lst))\n",
    "print(bucket_sort(lst))"
   ]
  }
 ],
 "metadata": {
  "kernelspec": {
   "display_name": "Python 3 (ipykernel)",
   "language": "python",
   "name": "python3"
  },
  "language_info": {
   "codemirror_mode": {
    "name": "ipython",
    "version": 3
   },
   "file_extension": ".py",
   "mimetype": "text/x-python",
   "name": "python",
   "nbconvert_exporter": "python",
   "pygments_lexer": "ipython3",
   "version": "3.9.7"
  }
 },
 "nbformat": 4,
 "nbformat_minor": 5
}
