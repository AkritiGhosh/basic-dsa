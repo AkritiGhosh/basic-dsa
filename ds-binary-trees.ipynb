{
 "cells": [
  {
   "cell_type": "markdown",
   "id": "320e50d7-339a-41ac-b4e1-6c7fbb13a972",
   "metadata": {},
   "source": [
    "# Binary Trees\n",
    "A data structure, a tree ehere every node has less than or equal to two child nodes.\n",
    "\n",
    "There are different types of binary trees - \n",
    "1. Full Binary Tree\n",
    "2. Complete Binary Tree\n",
    "3. Binary Search Tree\n"
   ]
  },
  {
   "cell_type": "code",
   "execution_count": 1,
   "id": "6bf4bf53-8807-4b80-be88-2d4bf473a538",
   "metadata": {},
   "outputs": [],
   "source": [
    "class Node:\n",
    "    def __init__(self, data, left=None, right=None):\n",
    "        self.data = data\n",
    "        self.left = left\n",
    "        self.right = right"
   ]
  },
  {
   "cell_type": "markdown",
   "id": "c9c9594b-9735-499b-96bf-3807aca252ab",
   "metadata": {
    "tags": []
   },
   "source": [
    "## Depth First Tree traversal\n",
    "1.  Inorder: Left node -> Root node -> Right node\n",
    "2. Preorder: Root node -> Left node -> Right node\n",
    "3. Postorder: Left node -> Right node -> Root node"
   ]
  },
  {
   "cell_type": "code",
   "execution_count": 2,
   "id": "dfbaa993-d9e1-44d8-bc5d-b603e12a5d71",
   "metadata": {},
   "outputs": [],
   "source": [
    "class BinaryTree:\n",
    "    def levelled_insertion(self, data):\n",
    "        if not self.root:\n",
    "            self.root = Node(data)\n",
    "            return\n",
    "        q=[self.root]\n",
    "        while len(q):\n",
    "            node = q[0]\n",
    "            q.pop(0)\n",
    "            if not node.left:\n",
    "                node.left = Node(data)\n",
    "                return\n",
    "            else:\n",
    "                q.append(node.left)\n",
    "            if not node.right:\n",
    "                node.right = Node(data)\n",
    "                return\n",
    "            else:\n",
    "                q.append(node.right)\n",
    "                \n",
    "    def count_node(self, node = ''):\n",
    "        if node == '':\n",
    "            node = self.root\n",
    "        if node:\n",
    "            return (1 + count_node(node.left) + count_node(node.right))\n",
    "    \n",
    "    def treeHeight(self, node=\"\"):\n",
    "        if node==\"\":\n",
    "            node = self.root\n",
    "        if node == None:\n",
    "            return 0\n",
    "        leftHeight = treeHeight(node.left)\n",
    "        rightHeight = treeHeight(node.right)\n",
    "        return (max(leftHeight, rightHeight) +1)\n",
    "    \n",
    "    def breadthFirst(self):\n",
    "        if self.root:\n",
    "            queue = []\n",
    "            queue.append(self.root)\n",
    "            while len(queue) > 0:\n",
    "                node = queue.pop(0)\n",
    "                print(node.data, end=\" \")\n",
    "                if node.left is not None:\n",
    "                    queue.append(node.left)\n",
    "                if node.right is not None:\n",
    "                    queue.append(node.right)\n",
    "        print()\n",
    "    \n",
    "    def printInorder(self, node = ''):\n",
    "        if node == '':\n",
    "            node = self.root\n",
    "        if node:\n",
    "            self.printInorder(node.left)\n",
    "            print(node.data, end=' ')\n",
    "            self.printInorder(node.right)\n",
    "\n",
    "    def printPostorder(self, node = \"\"):\n",
    "        if node == '':\n",
    "            node = self.root\n",
    "        if node:\n",
    "            self.printPostorder(node.left)\n",
    "            self.printPostorder(node.right)\n",
    "            print(node.data, end=' ')\n",
    "\n",
    "    def printPreorder(self, node = ''):\n",
    "        if node == '':\n",
    "            node = self.root\n",
    "        if node:\n",
    "            print(node.data, end=' ')\n",
    "            self.printPreorder(node.left)\n",
    "            self.printPreorder(node.right)"
   ]
  },
  {
   "cell_type": "markdown",
   "id": "8da0337c-65fa-49c9-9129-f5a3af3e3fe9",
   "metadata": {},
   "source": [
    "## Complete Binary Tree\n",
    "A binary tree in which every level is as completely filled as possible, and all nodes are as far left as possible."
   ]
  },
  {
   "cell_type": "code",
   "execution_count": 3,
   "id": "086499e2-dbcf-4ccb-b43c-011ea15efe30",
   "metadata": {},
   "outputs": [],
   "source": [
    "class CompleteBinaryTree(BinaryTree):\n",
    "    def __init__(self, node = None):\n",
    "        self.root = Node(node)\n",
    "    def array_to_tree(self, arr, root, node):\n",
    "        maxlen = len(arr)\n",
    "        if node < maxlen:\n",
    "            root = Node(arr[node])\n",
    "            root.left = self.array_to_tree(arr, root.left, 2*node+1)\n",
    "            root.right = self.array_to_tree(arr, root.right, 2*node+2)\n",
    "        return root"
   ]
  },
  {
   "cell_type": "code",
   "execution_count": 4,
   "id": "c6a7c735-e4d1-420d-8baf-3a1a2b594110",
   "metadata": {},
   "outputs": [
    {
     "name": "stdout",
     "output_type": "stream",
     "text": [
      "70 50.6 60 -30 10 20 10.5 0 40 50.2 \n",
      "70 60 50.6 10 20 -30 0 50.2 40 10.5 \n",
      "10.5 -30 50.6 70 60 20 10 40 0 50.2 "
     ]
    }
   ],
   "source": [
    "lst = [10.5, -30, 40, 50.6, 20, 0, 50.2, 70, 60, 10]\n",
    "tree = CompleteBinaryTree()\n",
    "tree.root = tree.array_to_tree(lst, None, 0)\n",
    "tree.printInorder()\n",
    "print()\n",
    "tree.printPostorder()\n",
    "print()\n",
    "tree.printPreorder()"
   ]
  },
  {
   "cell_type": "code",
   "execution_count": 5,
   "id": "f61257c5-268f-4b20-a6c7-0d05f10da3d4",
   "metadata": {},
   "outputs": [
    {
     "name": "stdout",
     "output_type": "stream",
     "text": [
      "70 50.6 60 -30 10 20 80 10.5 0 40 50.2 \n",
      "10.5 -30 40 50.6 20 0 50.2 70 60 10 80 \n"
     ]
    }
   ],
   "source": [
    "tree.levelled_insertion(80)\n",
    "tree.printInorder()\n",
    "print()\n",
    "tree.breadthFirst()"
   ]
  }
 ],
 "metadata": {
  "kernelspec": {
   "display_name": "Python 3 (ipykernel)",
   "language": "python",
   "name": "python3"
  },
  "language_info": {
   "codemirror_mode": {
    "name": "ipython",
    "version": 3
   },
   "file_extension": ".py",
   "mimetype": "text/x-python",
   "name": "python",
   "nbconvert_exporter": "python",
   "pygments_lexer": "ipython3",
   "version": "3.9.7"
  }
 },
 "nbformat": 4,
 "nbformat_minor": 5
}
