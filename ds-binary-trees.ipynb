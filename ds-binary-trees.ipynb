{
 "cells": [
  {
   "cell_type": "markdown",
   "id": "50538ce2-6f12-4aa4-9014-ec79e131a6d1",
   "metadata": {},
   "source": [
    "# Tree\n",
    "Non-linear, hierarchical data structure, consisting of nodes. Each node is connected to it's child node.\n",
    "* Topmost/First node - Root node\n",
    "* Bottom-most/ Node with no child or None as child - Leaf nodes"
   ]
  },
  {
   "cell_type": "markdown",
   "id": "320e50d7-339a-41ac-b4e1-6c7fbb13a972",
   "metadata": {},
   "source": [
    "# Binary Trees\n",
    "A data structure, a tree ehere every node has less than or equal to two child nodes.\n",
    "\n",
    "There are 5 different types of binary trees - \n",
    "1. Full Binary Tree\n",
    "2. Complete Binary Tree\n",
    "3. Balanced Tree\n",
    "4. Perfect Tree\n",
    "5. Degraded Tree\n",
    "\n",
    "Other types of special Binary Tree are -\n",
    "1. Binary Search Tree\n",
    "2. AVL Tree\n",
    "3. Red-black tree"
   ]
  },
  {
   "cell_type": "markdown",
   "id": "0f2be386-dda2-42a7-a9e7-ecf3dd098017",
   "metadata": {},
   "source": [
    "# Binary Tree Node\n",
    "Every node is an object with 3 defining information - data(value stored in node), the left child node and the right child node"
   ]
  },
  {
   "cell_type": "code",
   "execution_count": 1,
   "id": "6bf4bf53-8807-4b80-be88-2d4bf473a538",
   "metadata": {},
   "outputs": [],
   "source": [
    "class Node:\n",
    "    def __init__(self, data, left=None, right=None):\n",
    "        self.data = data\n",
    "        self.left = left\n",
    "        self.right = right"
   ]
  },
  {
   "cell_type": "markdown",
   "id": "c9c9594b-9735-499b-96bf-3807aca252ab",
   "metadata": {
    "tags": []
   },
   "source": [
    "# Tree Traversal - \n",
    "Trees can be traversed in 2 ways - \n",
    "1. Breadth First or Levelled traversal - generally requires queue for operations\n",
    "2. Depth First"
   ]
  },
  {
   "cell_type": "code",
   "execution_count": 2,
   "id": "dfbaa993-d9e1-44d8-bc5d-b603e12a5d71",
   "metadata": {},
   "outputs": [],
   "source": [
    "class BinaryTree:\n",
    "    def __init__(self, node = None):\n",
    "        self.root = Node(node)\n",
    "    def breadth_first_insertion(self, data):\n",
    "#         If tree is empty\n",
    "        if not self.root:\n",
    "            self.root = Node(data)\n",
    "            return\n",
    "        \n",
    "#         Create queue with root as 1st value\n",
    "        q=[self.root]\n",
    "#     While there are elemments in the quque\n",
    "        while len(q):\n",
    "#         Assign node with the first element of queue ie the next node to iterate and remove it from queue\n",
    "            node = q[0]\n",
    "            q.pop(0)\n",
    "#         If the node does not have a left child node - add the new node to left & return\n",
    "            if not node.left:\n",
    "                node.left = Node(data)\n",
    "                return\n",
    "#         If it has a left node, add it in queue to be iterated next\n",
    "            else:\n",
    "                q.append(node.left)\n",
    "#         If the node does not have a right child node - add the new node to right & return\n",
    "            if not node.right:\n",
    "                node.right = Node(data)\n",
    "                return\n",
    "#         If it has a right node, add it in queue to be iterated next\n",
    "            else:\n",
    "                q.append(node.right)\n",
    "\n",
    "#   Similar to breadth forst insertion - instead of adding values if child node is empty, print node value and continue iteration till leaf node\n",
    "    def breadth_first_print(self):\n",
    "        if self.root:\n",
    "            queue = []\n",
    "            queue.append(self.root)\n",
    "            while len(queue) > 0:\n",
    "                node = queue.pop(0)\n",
    "                print(node.data, end=\" \")\n",
    "                if node.left is not None:\n",
    "                    queue.append(node.left)\n",
    "                if node.right is not None:\n",
    "                    queue.append(node.right)\n",
    "        print()"
   ]
  },
  {
   "cell_type": "markdown",
   "id": "198f8700-0bfe-4c65-9df2-d0e5fc4309c3",
   "metadata": {},
   "source": [
    "## Depth First Tree traversal \n",
    "Again subcategorized into - \n",
    "1.  Inorder: Left node -> Data -> Right node\n",
    "2. Preorder: Data -> Left node -> Right node\n",
    "3. Postorder: Left node -> Right node -> Data"
   ]
  },
  {
   "cell_type": "code",
   "execution_count": 3,
   "id": "503a707c-672c-44ff-9436-aa80c4657969",
   "metadata": {},
   "outputs": [],
   "source": [
    "def pre_order_print(node):\n",
    "    if node:\n",
    "        print(node.data, end=' ')\n",
    "        pre_order_print(node.left)\n",
    "        pre_order_print(node.right)\n",
    "        \n",
    "def in_order_print(node):\n",
    "    if node:\n",
    "        in_order_print(node.left)\n",
    "        print(node.data, end=' ')\n",
    "        in_order_print(node.right)\n",
    "\n",
    "def post_order_print(node):\n",
    "    if node:\n",
    "        post_order_print(node.left)\n",
    "        post_order_print(node.right)\n",
    "        print(node.data, end=' ')\n"
   ]
  },
  {
   "cell_type": "markdown",
   "id": "88c72128-98dc-47f7-bddd-72cd84899e11",
   "metadata": {},
   "source": [
    "## Count the number of nodes in any tree"
   ]
  },
  {
   "cell_type": "code",
   "execution_count": 4,
   "id": "e02e7ed0-3e65-41e2-b23f-cb636072e88b",
   "metadata": {},
   "outputs": [],
   "source": [
    "def count_nodes(node):\n",
    "    if node and node.data:\n",
    "        return (1 + count_nodes(node.left) + count_nodes(node.right))\n",
    "    else:\n",
    "        return 0\n"
   ]
  },
  {
   "cell_type": "markdown",
   "id": "c5de351e-9f35-437f-b48d-0ee7387b9313",
   "metadata": {},
   "source": [
    "## Get the height or level of a tree"
   ]
  },
  {
   "cell_type": "code",
   "execution_count": 5,
   "id": "fbd8cdad-752d-4444-8621-ac9964ede006",
   "metadata": {},
   "outputs": [],
   "source": [
    "def get_height(node):\n",
    "    if node is None:\n",
    "        return 0\n",
    "    leftHeight = get_height(node.left)\n",
    "    rightHeight = get_height(node.right)\n",
    "    return ( max(leftHeight, rightHeight) + 1)\n"
   ]
  },
  {
   "cell_type": "code",
   "execution_count": 6,
   "id": "c28096af-ca3f-407b-bd93-6b8a7c0cbe9b",
   "metadata": {},
   "outputs": [
    {
     "name": "stdout",
     "output_type": "stream",
     "text": [
      "100 150 180 130 120 \n"
     ]
    }
   ],
   "source": [
    "bintree = BinaryTree(100)\n",
    "bintree.breadth_first_insertion(150)\n",
    "bintree.breadth_first_insertion(180)\n",
    "bintree.breadth_first_insertion(130)\n",
    "bintree.breadth_first_insertion(120)\n",
    "bintree.breadth_first_print()"
   ]
  },
  {
   "cell_type": "markdown",
   "id": "8da0337c-65fa-49c9-9129-f5a3af3e3fe9",
   "metadata": {},
   "source": [
    "## Complete Binary Tree\n",
    "A binary tree in which every level is as completely filled as possible, and all nodes are as far left as possible."
   ]
  },
  {
   "cell_type": "code",
   "execution_count": 7,
   "id": "086499e2-dbcf-4ccb-b43c-011ea15efe30",
   "metadata": {},
   "outputs": [],
   "source": [
    "class CompleteBinaryTree(BinaryTree):\n",
    "    def __init__(self, node = None):\n",
    "        super().__init__(node)\n",
    "    def array_insert(self, arr, root, idx):\n",
    "        maxlen = len(arr)\n",
    "        if idx < maxlen:\n",
    "            root = Node(arr[idx])\n",
    "            root.left = self.array_insert(arr, root.left, 2*idx+1)\n",
    "            root.right = self.array_insert(arr, root.right, 2*idx+2)\n",
    "        return root"
   ]
  },
  {
   "cell_type": "code",
   "execution_count": 8,
   "id": "c6a7c735-e4d1-420d-8baf-3a1a2b594110",
   "metadata": {},
   "outputs": [
    {
     "name": "stdout",
     "output_type": "stream",
     "text": [
      "70 50.6 60 -30 10 20 10.5 0 40 50.2 \n",
      "70 60 50.6 10 20 -30 0 50.2 40 10.5 \n",
      "10.5 -30 50.6 70 60 20 10 40 0 50.2 "
     ]
    }
   ],
   "source": [
    "lst = [10.5, -30, 40, 50.6, 20, 0, 50.2, 70, 60, 10]\n",
    "cbt = CompleteBinaryTree()\n",
    "cbt.root = cbt.array_insert(lst, None, 0)\n",
    "in_order_print(cbt.root)\n",
    "print()\n",
    "post_order_print(cbt.root)\n",
    "print()\n",
    "pre_order_print(cbt.root)"
   ]
  },
  {
   "cell_type": "markdown",
   "id": "71621af2-283b-420b-9281-0662ca898d4a",
   "metadata": {},
   "source": [
    "### Using methods of parent class"
   ]
  },
  {
   "cell_type": "code",
   "execution_count": 9,
   "id": "f61257c5-268f-4b20-a6c7-0d05f10da3d4",
   "metadata": {},
   "outputs": [
    {
     "name": "stdout",
     "output_type": "stream",
     "text": [
      "70 50.6 60 -30 10 20 80 10.5 0 40 50.2 \n",
      "10.5 -30 40 50.6 20 0 50.2 70 60 10 80 \n"
     ]
    }
   ],
   "source": [
    "cbt.breadth_first_insertion(80)\n",
    "in_order_print(cbt.root)\n",
    "print()\n",
    "cbt.breadth_first_print()"
   ]
  },
  {
   "cell_type": "code",
   "execution_count": 10,
   "id": "0059043b-6071-442e-9aac-c7f8cf6ef329",
   "metadata": {},
   "outputs": [
    {
     "name": "stdout",
     "output_type": "stream",
     "text": [
      "10\n",
      "4\n"
     ]
    }
   ],
   "source": [
    "print(count_nodes(cbt.root))\n",
    "print(get_height(cbt.root))"
   ]
  },
  {
   "cell_type": "markdown",
   "id": "4b61c182-021d-4074-b437-66c3323f0308",
   "metadata": {},
   "source": [
    "## Binary Search Tree\n",
    "Binary tree in which every left node is less than parent and every right node is greater than parent"
   ]
  },
  {
   "cell_type": "code",
   "execution_count": 11,
   "id": "3ee73a37-8618-4fa0-a6f9-f0ab98b3d671",
   "metadata": {},
   "outputs": [],
   "source": [
    "class BinarySearchTree(BinaryTree):\n",
    "    def __init__(self, node = None):\n",
    "        super().__init__(node)\n",
    "    \n",
    "    def insert(self, node=Node(None), recursion=False, data=int):\n",
    "#         If tree is empty\n",
    "        if self.root.data is None:\n",
    "            self.root = Node(data)\n",
    "            return\n",
    "#       Empty node -> Node with no value\n",
    "        if node is None:\n",
    "            return Node(data)\n",
    "#         If function is called for first time and need to start iteration from root without passing it as argument\n",
    "        if not recursion:\n",
    "            iter_node = self.root\n",
    "        else:\n",
    "            iter_node = node\n",
    "#         Recursion for right subtree and left subtree, if data is greater or lesser than value of node \n",
    "        if data > iter_node.data:\n",
    "            iter_node.right = self.insert( node=iter_node.right, recursion=True, data=data)\n",
    "        elif data < iter_node.data:\n",
    "            iter_node.left = self.insert( node=iter_node.left, recursion=True, data=data)\n",
    "        return iter_node\n",
    "\n",
    "    def array_insert(self, arr):\n",
    "        for i in arr:\n",
    "            self.insert(data=i)\n",
    "    \n",
    "    def search(self, data, node=Node(None), recursion=False):\n",
    "#         If tree is empty\n",
    "        if self.root.data is None:\n",
    "            print('Empty Tree')\n",
    "            return\n",
    "#         If function is called for first time and need to start iteration from root without passing it as argument\n",
    "        if not recursion:\n",
    "            node = self.root\n",
    "#         If crossed leaf nodes -> no more nodes left to check -> \n",
    "        if node is None or node.data is None:\n",
    "            print('Not found')\n",
    "            return\n",
    "        if node.data == data:\n",
    "            print('Found ', data, 'in tree')\n",
    "            return\n",
    "#         Recursion for right subtree and left subtree, if data is greater or lesser than value of node \n",
    "        if data < node.data:\n",
    "            self.search(node=node.left, recursion=True, data=data)\n",
    "        else:\n",
    "            self.search(node=node.right, recursion=True, data=data)"
   ]
  },
  {
   "cell_type": "code",
   "execution_count": 12,
   "id": "387c7bae-1085-4a29-b63d-8b21dd2aa0ea",
   "metadata": {},
   "outputs": [
    {
     "name": "stdout",
     "output_type": "stream",
     "text": [
      "20 25 40 45 50 55 65 70 75 "
     ]
    }
   ],
   "source": [
    "bst = BinarySearchTree()\n",
    "bst.array_insert([65,45,25,75,55])\n",
    "bst.root = bst.insert(data=50)\n",
    "bst.root = bst.insert(data=40)\n",
    "bst.root = bst.insert(data=20)\n",
    "bst.root = bst.insert(data=70)\n",
    "in_order_print(bst.root)"
   ]
  },
  {
   "cell_type": "code",
   "execution_count": 14,
   "id": "a6d1d27c-6ec9-4368-bf6c-fcc5bba91a79",
   "metadata": {},
   "outputs": [
    {
     "name": "stdout",
     "output_type": "stream",
     "text": [
      "Found  55 in tree\n",
      "Not found\n",
      "Found  75 in tree\n"
     ]
    }
   ],
   "source": [
    "bst.search(data = 55)\n",
    "bst.search(data = 74)\n",
    "bst.search(data = 75)"
   ]
  },
  {
   "cell_type": "code",
   "execution_count": null,
   "id": "9cc03ce1-edad-4a35-9929-358895348551",
   "metadata": {},
   "outputs": [],
   "source": []
  }
 ],
 "metadata": {
  "kernelspec": {
   "display_name": "Python 3 (ipykernel)",
   "language": "python",
   "name": "python3"
  },
  "language_info": {
   "codemirror_mode": {
    "name": "ipython",
    "version": 3
   },
   "file_extension": ".py",
   "mimetype": "text/x-python",
   "name": "python",
   "nbconvert_exporter": "python",
   "pygments_lexer": "ipython3",
   "version": "3.9.7"
  }
 },
 "nbformat": 4,
 "nbformat_minor": 5
}
