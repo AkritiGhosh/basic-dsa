{
 "cells": [
  {
   "cell_type": "markdown",
   "id": "320e50d7-339a-41ac-b4e1-6c7fbb13a972",
   "metadata": {},
   "source": [
    "# Binary Trees\n",
    "A data structure, a tree ehere every node has less than or equal to two child nodes.\n",
    "\n",
    "There are different types of binary trees - \n",
    "1. Full Binary Tree\n",
    "2. Complete Binary Tree\n",
    "3. Binary Search Tree\n"
   ]
  },
  {
   "cell_type": "code",
   "execution_count": 1,
   "id": "6bf4bf53-8807-4b80-be88-2d4bf473a538",
   "metadata": {},
   "outputs": [],
   "source": [
    "class Node:\n",
    "    def __init__(self, data, left=None, right=None):\n",
    "        self.data = data\n",
    "        self.left = left\n",
    "        self.right = right"
   ]
  },
  {
   "cell_type": "markdown",
   "id": "c9c9594b-9735-499b-96bf-3807aca252ab",
   "metadata": {
    "tags": []
   },
   "source": [
    "## Depth First Tree traversal\n",
    "1.  Inorder: Left node -> Root node -> Right node\n",
    "2. Preorder: Root node -> Left node -> Right node\n",
    "3. Postorder: Left node -> Right node -> Root node"
   ]
  },
  {
   "cell_type": "code",
   "execution_count": 42,
   "id": "dfbaa993-d9e1-44d8-bc5d-b603e12a5d71",
   "metadata": {},
   "outputs": [],
   "source": [
    "class BinaryTree:\n",
    "    def levelled_insertion(self, data):\n",
    "        if not self.root:\n",
    "            self.root = Node(data)\n",
    "            return\n",
    "        q=[self.root]\n",
    "        while len(q):\n",
    "            node = q[0]\n",
    "            q.pop(0)\n",
    "            if not node.left:\n",
    "                node.left = Node(data)\n",
    "                return\n",
    "            else:\n",
    "                q.append(node.left)\n",
    "            if not node.right:\n",
    "                node.right = Node(data)\n",
    "                return\n",
    "            else:\n",
    "                q.append(node.right)\n",
    "                \n",
    "    \n",
    "    def count_nodes(self, node = ''):\n",
    "        if node == '':\n",
    "            node = self.root\n",
    "        if node and node.data:\n",
    "            return (1 + self.count_nodes(node.left) + self.count_nodes(node.right))\n",
    "        else:\n",
    "            return 0\n",
    "    \n",
    "    def treeHeight(self, node=\"\"):\n",
    "        if node==\"\":\n",
    "            node = self.root\n",
    "        if node == None:\n",
    "            return 0\n",
    "        leftHeight = self.treeHeight(node.left)\n",
    "        rightHeight = self.treeHeight(node.right)\n",
    "        return (max(leftHeight, rightHeight) +1)\n",
    "    \n",
    "    def breadthFirst(self):\n",
    "        if self.root:\n",
    "            queue = []\n",
    "            queue.append(self.root)\n",
    "            while len(queue) > 0:\n",
    "                node = queue.pop(0)\n",
    "                print(node.data, end=\" \")\n",
    "                if node.left is not None:\n",
    "                    queue.append(node.left)\n",
    "                if node.right is not None:\n",
    "                    queue.append(node.right)\n",
    "        print()\n",
    "    \n",
    "    def printInorder(self, node = ''):\n",
    "        if node == '':\n",
    "            node = self.root\n",
    "        if node:\n",
    "            self.printInorder(node.left)\n",
    "            print(node.data, end=' ')\n",
    "            self.printInorder(node.right)\n",
    "\n",
    "    def printPostorder(self, node = \"\"):\n",
    "        if node == '':\n",
    "            node = self.root\n",
    "        if node:\n",
    "            self.printPostorder(node.left)\n",
    "            self.printPostorder(node.right)\n",
    "            print(node.data, end=' ')\n",
    "\n",
    "    def printPreorder(self, node = ''):\n",
    "        if node == '':\n",
    "            node = self.root\n",
    "        if node:\n",
    "            print(node.data, end=' ')\n",
    "            self.printPreorder(node.left)\n",
    "            self.printPreorder(node.right)"
   ]
  },
  {
   "cell_type": "markdown",
   "id": "8da0337c-65fa-49c9-9129-f5a3af3e3fe9",
   "metadata": {},
   "source": [
    "## Complete Binary Tree\n",
    "A binary tree in which every level is as completely filled as possible, and all nodes are as far left as possible."
   ]
  },
  {
   "cell_type": "code",
   "execution_count": 10,
   "id": "086499e2-dbcf-4ccb-b43c-011ea15efe30",
   "metadata": {},
   "outputs": [],
   "source": [
    "class CompleteBinaryTree(BinaryTree):\n",
    "    def __init__(self, node = None):\n",
    "        self.root = Node(node)\n",
    "    def array_to_tree(self, arr, root, node):\n",
    "        maxlen = len(arr)\n",
    "        if node < maxlen:\n",
    "            root = Node(arr[node])\n",
    "            root.left = self.array_to_tree(arr, root.left, 2*node+1)\n",
    "            root.right = self.array_to_tree(arr, root.right, 2*node+2)\n",
    "        return root"
   ]
  },
  {
   "cell_type": "markdown",
   "id": "4b61c182-021d-4074-b437-66c3323f0308",
   "metadata": {},
   "source": [
    "## Binary Search Tree\n",
    "Binary tree in which every left node is less than parent and every right node is greater than parent"
   ]
  },
  {
   "cell_type": "code",
   "execution_count": 122,
   "id": "3ee73a37-8618-4fa0-a6f9-f0ab98b3d671",
   "metadata": {},
   "outputs": [],
   "source": [
    "class BinarySearchTree(BinaryTree):\n",
    "    def __init__(self, node = None):\n",
    "        self.root = Node(node)\n",
    "    \n",
    "    def insert(self, node=Node(None), recursion=False, data=int):\n",
    "#         If tree is empty\n",
    "        if self.root.data == None:\n",
    "            self.root = Node(data)\n",
    "            return\n",
    "        if node == None:\n",
    "            return Node(data)\n",
    "        if not recursion:\n",
    "            iter_node = self.root\n",
    "        else:\n",
    "            iter_node = node\n",
    "        if data > iter_node.data:\n",
    "            iter_node.right = self.insert( node=iter_node.right, recursion=True, data=data)\n",
    "        elif data < iter_node.data:\n",
    "            iter_node.left = self.insert( node=iter_node.left, recursion=True, data=data)\n",
    "        return iter_node\n",
    "\n",
    "    def array_to_tree(self, arr):\n",
    "        for i in arr:\n",
    "            print(i)\n",
    "            self.insert(data=i)\n",
    "        \n",
    "    \n",
    "        \n",
    "            "
   ]
  },
  {
   "cell_type": "code",
   "execution_count": 112,
   "id": "c6a7c735-e4d1-420d-8baf-3a1a2b594110",
   "metadata": {},
   "outputs": [
    {
     "name": "stdout",
     "output_type": "stream",
     "text": [
      "70 50.6 60 -30 10 20 10.5 0 40 50.2 \n",
      "70 60 50.6 10 20 -30 0 50.2 40 10.5 \n",
      "10.5 -30 50.6 70 60 20 10 40 0 50.2 "
     ]
    }
   ],
   "source": [
    "lst = [10.5, -30, 40, 50.6, 20, 0, 50.2, 70, 60, 10]\n",
    "tree = CompleteBinaryTree()\n",
    "tree.root = tree.array_to_tree(lst, None, 0)\n",
    "tree.printInorder()\n",
    "print()\n",
    "tree.printPostorder()\n",
    "print()\n",
    "tree.printPreorder()"
   ]
  },
  {
   "cell_type": "code",
   "execution_count": null,
   "id": "f61257c5-268f-4b20-a6c7-0d05f10da3d4",
   "metadata": {},
   "outputs": [],
   "source": [
    "tree.levelled_insertion(80)\n",
    "tree.printInorder()\n",
    "print()\n",
    "tree.breadthFirst()"
   ]
  },
  {
   "cell_type": "code",
   "execution_count": 123,
   "id": "387c7bae-1085-4a29-b63d-8b21dd2aa0ea",
   "metadata": {},
   "outputs": [
    {
     "name": "stdout",
     "output_type": "stream",
     "text": [
      "20 40 50 60 70 "
     ]
    }
   ],
   "source": [
    "bst = BinarySearchTree(60)\n",
    "bst.root = bst.insert(data=50)\n",
    "bst.root = bst.insert(data=40)\n",
    "bst.root = bst.insert(data=20)\n",
    "bst.root = bst.insert(data=70)\n",
    "bst.printInorder()"
   ]
  },
  {
   "cell_type": "code",
   "execution_count": null,
   "id": "a6d1d27c-6ec9-4368-bf6c-fcc5bba91a79",
   "metadata": {},
   "outputs": [],
   "source": [
    "bst.breadthFirst()\n",
    "print()"
   ]
  },
  {
   "cell_type": "code",
   "execution_count": null,
   "id": "9cc03ce1-edad-4a35-9929-358895348551",
   "metadata": {},
   "outputs": [],
   "source": []
  }
 ],
 "metadata": {
  "kernelspec": {
   "display_name": "Python 3 (ipykernel)",
   "language": "python",
   "name": "python3"
  },
  "language_info": {
   "codemirror_mode": {
    "name": "ipython",
    "version": 3
   },
   "file_extension": ".py",
   "mimetype": "text/x-python",
   "name": "python",
   "nbconvert_exporter": "python",
   "pygments_lexer": "ipython3",
   "version": "3.9.7"
  }
 },
 "nbformat": 4,
 "nbformat_minor": 5
}
