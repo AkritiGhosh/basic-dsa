{
 "cells": [
  {
   "cell_type": "markdown",
   "id": "320e50d7-339a-41ac-b4e1-6c7fbb13a972",
   "metadata": {},
   "source": [
    "# Binary Trees\n",
    "A data structure, a tree ehere every node has less than or equal to two child nodes.\n",
    "\n",
    "There are different types of binary trees - \n",
    "1. Full Binary Tree\n",
    "2. Complete Binary Tree\n",
    "3. Binary Search Tree\n"
   ]
  },
  {
   "cell_type": "code",
   "execution_count": 1,
   "id": "6bf4bf53-8807-4b80-be88-2d4bf473a538",
   "metadata": {},
   "outputs": [],
   "source": [
    "class Node:\n",
    "    def __init__(self, data, left=None, right=None):\n",
    "        self.data = data\n",
    "        self.left = left\n",
    "        self.right = right"
   ]
  },
  {
   "cell_type": "markdown",
   "id": "c9c9594b-9735-499b-96bf-3807aca252ab",
   "metadata": {},
   "source": [
    "## Depth First Tree traversal\n",
    "1.  Inorder: Left node -> Root node -> Right node\n",
    "2. Preorder: Root node -> Left node -> Right node\n",
    "3. Postorder: Left node -> Right node -> Root node"
   ]
  },
  {
   "cell_type": "code",
   "execution_count": null,
   "id": "dfbaa993-d9e1-44d8-bc5d-b603e12a5d71",
   "metadata": {},
   "outputs": [],
   "source": [
    "def printInorder(node):\n",
    "    if node:\n",
    "        printInorder(node.left)\n",
    "        print(node.data, end=' ')\n",
    "        printInorder(node.right)\n",
    "\n",
    "def printPostorder(node):\n",
    "    if node:\n",
    "        printPostorder(node.left)\n",
    "        printPostorder(node.right)\n",
    "        print(node.data, end=' ')\n",
    "\n",
    "def printPreorder(node):\n",
    "    if node:\n",
    "        print(node.data, end=' ')\n",
    "        printPreorder(node.left)\n",
    "        printPreorder(node.right)"
   ]
  }
 ],
 "metadata": {
  "kernelspec": {
   "display_name": "Python 3 (ipykernel)",
   "language": "python",
   "name": "python3"
  },
  "language_info": {
   "codemirror_mode": {
    "name": "ipython",
    "version": 3
   },
   "file_extension": ".py",
   "mimetype": "text/x-python",
   "name": "python",
   "nbconvert_exporter": "python",
   "pygments_lexer": "ipython3",
   "version": "3.9.7"
  }
 },
 "nbformat": 4,
 "nbformat_minor": 5
}
