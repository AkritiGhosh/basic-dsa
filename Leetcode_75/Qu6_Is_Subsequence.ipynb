{
  "nbformat": 4,
  "nbformat_minor": 0,
  "metadata": {
    "colab": {
      "provenance": [],
      "authorship_tag": "ABX9TyNKZDAE2ttwf73R2YIcLZwA",
      "include_colab_link": true
    },
    "kernelspec": {
      "name": "python3",
      "display_name": "Python 3"
    },
    "language_info": {
      "name": "python"
    }
  },
  "cells": [
    {
      "cell_type": "markdown",
      "metadata": {
        "id": "view-in-github",
        "colab_type": "text"
      },
      "source": [
        "<a href=\"https://colab.research.google.com/github/AkritiGhosh/basic-dsa/blob/main/Leetcode_75/Qu6_Is_Subsequence.ipynb\" target=\"_parent\"><img src=\"https://colab.research.google.com/assets/colab-badge.svg\" alt=\"Open In Colab\"/></a>"
      ]
    },
    {
      "cell_type": "markdown",
      "source": [
        "Given two strings s and t, return true if s is a subsequence of t, or false otherwise.\n",
        "\n",
        "A subsequence of a string is a new string that is formed from the original string by deleting some (can be none) of the characters without disturbing the relative positions of the remaining characters. (i.e., \"ace\" is a subsequence of \"abcde\" while \"aec\" is not).\n",
        "\n",
        "\n",
        "\n",
        "## Example 1:\n",
        "\n",
        "Input: s = \"abc\", t = \"ahbgdc\"\n",
        "\n",
        "Output: true\n",
        "## Example 2:\n",
        "\n",
        "Input: s = \"axc\", t = \"ahbgdc\"\n",
        "\n",
        "Output: false\n",
        "\n",
        "\n",
        "# Constraints:\n",
        "\n",
        "* 0 <= s.length <= 100\n",
        "* 0 <= t.length <= 104\n",
        "* s and t consist only of lowercase English letters."
      ],
      "metadata": {
        "id": "FKEVXI2EpNZP"
      }
    },
    {
      "cell_type": "code",
      "execution_count": 3,
      "metadata": {
        "id": "OAk-MVMRpI8W"
      },
      "outputs": [],
      "source": [
        "def isSubsequence(s: str, t: str) -> bool:\n",
        "    if (len(s)==0):\n",
        "        return True\n",
        "    if (len(t)==0):\n",
        "        return False\n",
        "\n",
        "    t_index = 0\n",
        "    s_iter = 0\n",
        "\n",
        "    for i in t:\n",
        "        if i == s[s_iter]:\n",
        "            t_index = i\n",
        "            if (s_iter + 1 == len(s)):\n",
        "                return True\n",
        "            else:\n",
        "                s_iter += 1\n",
        "\n",
        "    return False"
      ]
    },
    {
      "cell_type": "code",
      "source": [
        "print(isSubsequence('abc','ahbgdc'))\n",
        "print(isSubsequence('acb','ahbgdc'))"
      ],
      "metadata": {
        "colab": {
          "base_uri": "https://localhost:8080/"
        },
        "id": "b0ZBYoMypay1",
        "outputId": "60ad7f15-6fc9-49af-eee7-3c59ae63cabc"
      },
      "execution_count": 4,
      "outputs": [
        {
          "output_type": "stream",
          "name": "stdout",
          "text": [
            "True\n",
            "False\n"
          ]
        }
      ]
    },
    {
      "cell_type": "code",
      "source": [],
      "metadata": {
        "id": "SbUm82jXpnik"
      },
      "execution_count": null,
      "outputs": []
    }
  ]
}