{
  "nbformat": 4,
  "nbformat_minor": 0,
  "metadata": {
    "colab": {
      "provenance": [],
      "authorship_tag": "ABX9TyOTf+zRcRcWznU9CUmsvaVg",
      "include_colab_link": true
    },
    "kernelspec": {
      "name": "python3",
      "display_name": "Python 3"
    },
    "language_info": {
      "name": "python"
    }
  },
  "cells": [
    {
      "cell_type": "markdown",
      "metadata": {
        "id": "view-in-github",
        "colab_type": "text"
      },
      "source": [
        "<a href=\"https://colab.research.google.com/github/AkritiGhosh/basic-dsa/blob/main/Leetcode_75/Qu_9_Maximum_Number_of_Vowels_in_a_Substring_of_Given_Length.ipynb\" target=\"_parent\"><img src=\"https://colab.research.google.com/assets/colab-badge.svg\" alt=\"Open In Colab\"/></a>"
      ]
    },
    {
      "cell_type": "markdown",
      "source": [
        "Given a string s and an integer k, return the maximum number of vowel letters in any substring of s with length k.\n",
        "\n",
        "Vowel letters in English are 'a', 'e', 'i', 'o', and 'u'.\n",
        "\n",
        "\n",
        "\n",
        "## Example 1:\n",
        "\n",
        "Input: s = \"abciiidef\", k = 3\n",
        "\n",
        "Output: 3\n",
        "\n",
        "Explanation: The substring \"iii\" contains 3 vowel letters.\n",
        "\n",
        "## Example 2:\n",
        "\n",
        "Input: s = \"aeiou\", k = 2\n",
        "\n",
        "Output: 2\n",
        "\n",
        "Explanation: Any substring of length 2 contains 2 vowels.\n",
        "\n",
        "## Example 3:\n",
        "\n",
        "Input: s = \"leetcode\", k = 3\n",
        "\n",
        "Output: 2\n",
        "\n",
        "Explanation: \"lee\", \"eet\" and \"ode\" contain 2 vowels.\n",
        "\n",
        "\n",
        "# Constraints:\n",
        "\n",
        "* 1 <= s.length <= 105\n",
        "* s consists of lowercase English letters.\n",
        "* 1 <= k <= s.length"
      ],
      "metadata": {
        "id": "J0AdJEeMYFPc"
      }
    },
    {
      "cell_type": "code",
      "execution_count": 1,
      "metadata": {
        "id": "5aFwC-EoX8ED"
      },
      "outputs": [],
      "source": [
        "def maxVowels(s: str, k: int) -> int:\n",
        "    window = s[:k]\n",
        "\n",
        "    # calc max # of vowels in current window\n",
        "    vowels = 'aeiou'\n",
        "    count = 0\n",
        "    for i in window:\n",
        "        if (i.lower() in vowels):\n",
        "            count += 1\n",
        "    maxVowel = count\n",
        "\n",
        "    for i in range(k, len(s)):\n",
        "        if(s[i].lower() in vowels):\n",
        "            count +=1\n",
        "        if(s[i-k].lower() in vowels):\n",
        "            count -= 1\n",
        "        if(maxVowel<count):\n",
        "            maxVowel = count\n",
        "        if (maxVowel >= k):\n",
        "            return k\n",
        "    return maxVowel\n",
        ""
      ]
    },
    {
      "cell_type": "code",
      "source": [
        "print(maxVowels(\"abciiidef\", 3))\n",
        "print(maxVowels(\"aeiou\", 2))\n",
        "print(maxVowels(\"leetcode\", 4))\n",
        "print(maxVowels(\"zpuerktejfp\", 3))"
      ],
      "metadata": {
        "colab": {
          "base_uri": "https://localhost:8080/"
        },
        "id": "6Ywek7BCYdLJ",
        "outputId": "df1d5b72-91ff-4eb9-fe8f-96fe1c4c23cd"
      },
      "execution_count": 2,
      "outputs": [
        {
          "output_type": "stream",
          "name": "stdout",
          "text": [
            "3\n",
            "2\n",
            "2\n",
            "2\n"
          ]
        }
      ]
    },
    {
      "cell_type": "code",
      "source": [],
      "metadata": {
        "id": "SZOeBcFYYuCq"
      },
      "execution_count": null,
      "outputs": []
    }
  ]
}