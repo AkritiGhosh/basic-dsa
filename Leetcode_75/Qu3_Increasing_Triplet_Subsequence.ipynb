{
  "nbformat": 4,
  "nbformat_minor": 0,
  "metadata": {
    "colab": {
      "provenance": [],
      "authorship_tag": "ABX9TyNOh5WPvmcZMdg5qb02pfYg",
      "include_colab_link": true
    },
    "kernelspec": {
      "name": "python3",
      "display_name": "Python 3"
    },
    "language_info": {
      "name": "python"
    }
  },
  "cells": [
    {
      "cell_type": "markdown",
      "metadata": {
        "id": "view-in-github",
        "colab_type": "text"
      },
      "source": [
        "<a href=\"https://colab.research.google.com/github/AkritiGhosh/basic-dsa/blob/main/Leetcode_75/Qu3_Increasing_Triplet_Subsequence.ipynb\" target=\"_parent\"><img src=\"https://colab.research.google.com/assets/colab-badge.svg\" alt=\"Open In Colab\"/></a>"
      ]
    },
    {
      "cell_type": "markdown",
      "source": [
        "Given an integer array nums, return true if there exists a triple of indices (i, j, k) such that i < j < k and nums[i] < nums[j] < nums[k]. If no such indices exists, return false.\n",
        "\n",
        "\n",
        "\n",
        "## Example 1:\n",
        "\n",
        "**Input:** nums = [1,2,3,4,5]\n",
        "\n",
        "**Output:** true\n",
        "\n",
        "**Explanation:** Any triplet where i < j < k is valid.\n",
        "## Example 2:\n",
        "\n",
        "**Input:** nums = [5,4,3,2,1]\n",
        "\n",
        "**Output:** false\n",
        "\n",
        "**Explanation:** No triplet exists.\n",
        "## Example 3:\n",
        "\n",
        "**Input:** nums = [2,1,5,0,4,6]\n",
        "\n",
        "**Output:** true\n",
        "\n",
        "**Explanation:** The triplet (3, 4, 5) is valid because nums[3] == 0 < nums[4] == 4 < nums[5] == 6.\n",
        "\n",
        "\n",
        "# Constraints:\n",
        "\n",
        "*  1 <= nums.length <= 5 * 105\n",
        "*  -231 <= nums[i] <= 231 - 1\n",
        ""
      ],
      "metadata": {
        "id": "A-WcAfGeUZXn"
      }
    },
    {
      "cell_type": "code",
      "execution_count": 2,
      "metadata": {
        "id": "RH_Fdfo-S1rZ"
      },
      "outputs": [],
      "source": [
        "def increasingTriplet(nums) -> bool:\n",
        "        if (len(nums) < 3):\n",
        "            return False\n",
        "        smallest = sec_smallest = float('inf')\n",
        "\n",
        "        for n in nums:\n",
        "            if (n <= smallest):\n",
        "                smallest = n\n",
        "            elif (n <= sec_smallest):\n",
        "                sec_smallest = n\n",
        "            else :\n",
        "                return True\n",
        "        return False"
      ]
    },
    {
      "cell_type": "code",
      "source": [
        "print(increasingTriplet([1,2,3,4,5]))\n",
        "print(increasingTriplet([1,2,3,4,5][::-1]))\n",
        "print(increasingTriplet([2,1,5,0,4,6]))"
      ],
      "metadata": {
        "colab": {
          "base_uri": "https://localhost:8080/"
        },
        "id": "Sr_gKO7tU4_W",
        "outputId": "c888d281-cc55-44a1-9afa-855a6e72650a"
      },
      "execution_count": 3,
      "outputs": [
        {
          "output_type": "stream",
          "name": "stdout",
          "text": [
            "True\n",
            "False\n",
            "True\n"
          ]
        }
      ]
    },
    {
      "cell_type": "code",
      "source": [],
      "metadata": {
        "id": "IVdIlh1mVE2A"
      },
      "execution_count": null,
      "outputs": []
    }
  ]
}