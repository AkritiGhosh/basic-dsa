{
  "nbformat": 4,
  "nbformat_minor": 0,
  "metadata": {
    "colab": {
      "provenance": [],
      "authorship_tag": "ABX9TyP8knX/gUT7iUxh1xiXTxQ+",
      "include_colab_link": true
    },
    "kernelspec": {
      "name": "python3",
      "display_name": "Python 3"
    },
    "language_info": {
      "name": "python"
    }
  },
  "cells": [
    {
      "cell_type": "markdown",
      "metadata": {
        "id": "view-in-github",
        "colab_type": "text"
      },
      "source": [
        "<a href=\"https://colab.research.google.com/github/AkritiGhosh/basic-dsa/blob/main/Leetcode_75/Qu5_Move_Zeroes.ipynb\" target=\"_parent\"><img src=\"https://colab.research.google.com/assets/colab-badge.svg\" alt=\"Open In Colab\"/></a>"
      ]
    },
    {
      "cell_type": "markdown",
      "source": [
        "Given an integer array nums, move all 0's to the end of it while maintaining the relative order of the non-zero elements.\n",
        "\n",
        "Note that you must do this in-place without making a copy of the array.\n",
        "\n",
        "\n",
        "\n",
        "## Example 1:\n",
        "\n",
        "Input: nums = [0,1,0,3,12]\n",
        "\n",
        "Output: [1,3,12,0,0]\n",
        "\n",
        "## Example 2:\n",
        "\n",
        "Input: nums = [0]\n",
        "\n",
        "Output: [0]\n",
        "\n",
        "\n",
        "# Constraints:\n",
        "\n",
        "* 1 <= nums.length <= 104\n",
        "* -231 <= nums[i] <= 231 - 1"
      ],
      "metadata": {
        "id": "aaCv6SQFnA6U"
      }
    },
    {
      "cell_type": "code",
      "execution_count": 2,
      "metadata": {
        "id": "JDyVX7vgm_rC"
      },
      "outputs": [],
      "source": [
        "def moveZeroes(nums) -> None:\n",
        "    non_zero_index = 0\n",
        "    current = 0\n",
        "    if (len(nums) <= 1) :\n",
        "        return\n",
        "    if ( not (0 in nums)):\n",
        "        return\n",
        "\n",
        "    while (current < len(nums)):\n",
        "        if(nums[current] != 0):\n",
        "            nums[non_zero_index] = nums[current]\n",
        "            non_zero_index += 1\n",
        "        current += 1\n",
        "    for i in range(non_zero_index, len(nums)):\n",
        "        nums[i] = 0\n",
        ""
      ]
    },
    {
      "cell_type": "code",
      "source": [
        "nums = [0,1,0,3,12]\n",
        "moveZeroes(nums)\n",
        "print(nums)"
      ],
      "metadata": {
        "colab": {
          "base_uri": "https://localhost:8080/"
        },
        "id": "Y3z3KDPDnXcW",
        "outputId": "bccd669e-aab0-4e7c-d8c4-e13c8e3afd6f"
      },
      "execution_count": 3,
      "outputs": [
        {
          "output_type": "stream",
          "name": "stdout",
          "text": [
            "[1, 3, 12, 0, 0]\n"
          ]
        }
      ]
    },
    {
      "cell_type": "code",
      "source": [],
      "metadata": {
        "id": "R6v6hts-nkku"
      },
      "execution_count": null,
      "outputs": []
    }
  ]
}