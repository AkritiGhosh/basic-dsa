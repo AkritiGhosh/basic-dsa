{
  "nbformat": 4,
  "nbformat_minor": 0,
  "metadata": {
    "colab": {
      "provenance": [],
      "authorship_tag": "ABX9TyPi7Fsr4j91x+IaCAuObwf1",
      "include_colab_link": true
    },
    "kernelspec": {
      "name": "python3",
      "display_name": "Python 3"
    },
    "language_info": {
      "name": "python"
    }
  },
  "cells": [
    {
      "cell_type": "markdown",
      "metadata": {
        "id": "view-in-github",
        "colab_type": "text"
      },
      "source": [
        "<a href=\"https://colab.research.google.com/github/AkritiGhosh/basic-dsa/blob/main/Leetcode_75/Qu7_Maximum_Average_Subarray_1.ipynb\" target=\"_parent\"><img src=\"https://colab.research.google.com/assets/colab-badge.svg\" alt=\"Open In Colab\"/></a>"
      ]
    },
    {
      "cell_type": "markdown",
      "source": [
        "You are given an integer array nums consisting of n elements, and an integer k.\n",
        "\n",
        "Find a contiguous subarray whose length is equal to k that has the maximum average value and return this value. Any answer with a calculation error less than 10-5 will be accepted.\n",
        "\n",
        "\n",
        "\n",
        "## Example 1:\n",
        "\n",
        "Input: nums = [1,12,-5,-6,50,3], k = 4\n",
        "\n",
        "Output: 12.75000\n",
        "\n",
        "Explanation: Maximum average is (12 - 5 - 6 + 50) / 4 = 51 / 4 = 12.75\n",
        "## Example 2:\n",
        "\n",
        "Input: nums = [5], k = 1\n",
        "\n",
        "Output: 5.00000\n",
        "\n",
        "\n",
        "# Constraints:\n",
        "\n",
        "- n == nums.length\n",
        "- 1 <= k <= n <= 105\n",
        "- -104 <= nums[i] <= 104"
      ],
      "metadata": {
        "id": "MYjrEjIOIsPg"
      }
    },
    {
      "cell_type": "code",
      "execution_count": 1,
      "metadata": {
        "id": "vWuxtWtPIrdX"
      },
      "outputs": [],
      "source": [
        "def findMaxAverage(nums, k: int) -> float:\n",
        "    window_avr = sum(nums[:k])/k\n",
        "    max_avr = window_avr\n",
        "\n",
        "    for i in range(len(nums)-k):\n",
        "        window_avr -= nums[i] /k\n",
        "        window_avr += nums[i+k]/k\n",
        "        max_avr = max(window_avr, max_avr)\n",
        "\n",
        "    return max_avr"
      ]
    },
    {
      "cell_type": "code",
      "source": [
        "print(findMaxAverage( [1,12,-5,-6,50,3], 4))"
      ],
      "metadata": {
        "id": "R0w9Z6SnJD6A",
        "outputId": "39c45d14-1402-4bc4-f235-5e1ac44118e6",
        "colab": {
          "base_uri": "https://localhost:8080/"
        }
      },
      "execution_count": 2,
      "outputs": [
        {
          "output_type": "stream",
          "name": "stdout",
          "text": [
            "12.75\n"
          ]
        }
      ]
    },
    {
      "cell_type": "code",
      "source": [],
      "metadata": {
        "id": "wY5TgLToJI6R"
      },
      "execution_count": null,
      "outputs": []
    }
  ]
}
