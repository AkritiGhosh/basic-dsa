{
  "nbformat": 4,
  "nbformat_minor": 0,
  "metadata": {
    "colab": {
      "provenance": [],
      "authorship_tag": "ABX9TyOFwmOF3ixN47PTAil80LnQ",
      "include_colab_link": true
    },
    "kernelspec": {
      "name": "python3",
      "display_name": "Python 3"
    },
    "language_info": {
      "name": "python"
    }
  },
  "cells": [
    {
      "cell_type": "markdown",
      "metadata": {
        "id": "view-in-github",
        "colab_type": "text"
      },
      "source": [
        "<a href=\"https://colab.research.google.com/github/AkritiGhosh/basic-dsa/blob/main/Leetcode_75/Qu_7_Max_Number_of_K_Sum_Pairs.ipynb\" target=\"_parent\"><img src=\"https://colab.research.google.com/assets/colab-badge.svg\" alt=\"Open In Colab\"/></a>"
      ]
    },
    {
      "cell_type": "markdown",
      "source": [
        "You are given an integer array nums and an integer k.\n",
        "\n",
        "In one operation, you can pick two numbers from the array whose sum equals k and remove them from the array.\n",
        "\n",
        "Return the maximum number of operations you can perform on the array.\n",
        "\n",
        "\n",
        "\n",
        "## Example 1:\n",
        "\n",
        "Input: nums = [1,2,3,4], k = 5\n",
        "\n",
        "Output: 2\n",
        "\n",
        "Explanation: Starting with nums = [1,2,3,4]:\n",
        "- Remove numbers 1 and 4, then nums = [2,3]\n",
        "- Remove numbers 2 and 3, then nums = []\n",
        "\n",
        "There are no more pairs that sum up to 5, hence a total of 2 operations.\n",
        "## Example 2:\n",
        "\n",
        "Input: nums = [3,1,3,4,3], k = 6\n",
        "\n",
        "Output: 1\n",
        "\n",
        "Explanation: Starting with nums = [3,1,3,4,3]:\n",
        "- Remove the first two 3's, then nums = [1,4,3]\n",
        "\n",
        "There are no more pairs that sum up to 6, hence a total of 1 operation.\n",
        "\n",
        "\n",
        "# Constraints:\n",
        "\n",
        "* 1 <= nums.length <= 105\n",
        "* 1 <= nums[i] <= 109\n",
        "* 1 <= k <= 109"
      ],
      "metadata": {
        "id": "0VxwEVLSw9gN"
      }
    },
    {
      "cell_type": "code",
      "execution_count": 1,
      "metadata": {
        "id": "x_rNVFFmw4uR"
      },
      "outputs": [],
      "source": [
        "def maxOperations2Pointers(nums, k: int) -> int:\n",
        "    if(len(nums) == 1):\n",
        "        return 0\n",
        "\n",
        "    operation = 0\n",
        "    left = 0\n",
        "    right = len(nums) - 1\n",
        "    nums.sort()\n",
        "    while (left < right):\n",
        "        if(nums[left] + nums[right] == k):\n",
        "            operation += 1\n",
        "            left += 1\n",
        "            right -= 1\n",
        "        elif(nums[left]+ nums[right] > k):\n",
        "            right -= 1\n",
        "        else :\n",
        "            left += 1\n",
        "    return operation\n"
      ]
    },
    {
      "cell_type": "code",
      "source": [
        "from collections import defaultdict\n",
        "\n",
        "def maxOperationDict(nums, k:int) -> int :\n",
        "  if(len(nums) == 1):\n",
        "    return 0\n",
        "\n",
        "  counter = defaultdict(int)\n",
        "  operations = 0\n",
        "\n",
        "  for i in nums :\n",
        "    sub = k - i\n",
        "    # if i exists in dict => sub exists and has been iterated\n",
        "    if (counter[i]):\n",
        "      operations += 1\n",
        "      counter[i] -= 1\n",
        "    else:\n",
        "      counter[sub] += 1\n",
        "\n",
        "  return operations\n"
      ],
      "metadata": {
        "id": "xsFH2mtoxUVP"
      },
      "execution_count": 2,
      "outputs": []
    },
    {
      "cell_type": "code",
      "source": [
        "print(maxOperations2Pointers([3,1,3,4,3], 6))\n",
        "print(maxOperationDict([3,1,3,4,3], 6))"
      ],
      "metadata": {
        "colab": {
          "base_uri": "https://localhost:8080/"
        },
        "id": "-f9w2wiXycvU",
        "outputId": "6b05bb1c-531e-419f-a679-0818f6b2e6e2"
      },
      "execution_count": 3,
      "outputs": [
        {
          "output_type": "stream",
          "name": "stdout",
          "text": [
            "1\n",
            "1\n"
          ]
        }
      ]
    },
    {
      "cell_type": "code",
      "source": [],
      "metadata": {
        "id": "eAukQIosylwB"
      },
      "execution_count": 3,
      "outputs": []
    }
  ]
}
