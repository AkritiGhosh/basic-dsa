{
  "nbformat": 4,
  "nbformat_minor": 0,
  "metadata": {
    "colab": {
      "provenance": [],
      "authorship_tag": "ABX9TyPNlc5mI5uJGzelTRrfaf5m",
      "include_colab_link": true
    },
    "kernelspec": {
      "name": "python3",
      "display_name": "Python 3"
    },
    "language_info": {
      "name": "python"
    }
  },
  "cells": [
    {
      "cell_type": "markdown",
      "metadata": {
        "id": "view-in-github",
        "colab_type": "text"
      },
      "source": [
        "<a href=\"https://colab.research.google.com/github/AkritiGhosh/basic-dsa/blob/main/Leetcode_75/Qu.2_Reverse_Words_in_a_String.ipynb\" target=\"_parent\"><img src=\"https://colab.research.google.com/assets/colab-badge.svg\" alt=\"Open In Colab\"/></a>"
      ]
    },
    {
      "cell_type": "markdown",
      "source": [
        "\n",
        "Given an input string s, reverse the order of the words.\n",
        "\n",
        "A word is defined as a sequence of non-space characters. The words in s will be separated by at least one space.\n",
        "\n",
        "Return a string of the words in reverse order concatenated by a single space.\n",
        "\n",
        "***Note*** *that s may contain leading or trailing spaces or multiple spaces between two words. The returned string should only have a single space separating the words. Do not include any extra spaces.*\n",
        "\n",
        "\n",
        "\n",
        "## Example 1:\n",
        "\n",
        "**Input:** s = \"the sky is blue\"\n",
        "\n",
        "**Output:** \"blue is sky the\"\n",
        "\n",
        "## Example 2:\n",
        "\n",
        "**Input:** s = \"  hello world  \"\n",
        "\n",
        "**Output:** \"world hello\"\n",
        "\n",
        "**Explanation:** Your reversed string should not contain leading or trailing spaces.\n",
        "## Example 3:\n",
        "\n",
        "**Input:** s = \"a good   example\"\n",
        "\n",
        "**Output:** \"example good a\"\n",
        "\n",
        "**Explanation:** You need to reduce multiple spaces between two words to a single space in the reversed string.\n",
        "\n",
        "\n",
        "# Constraints:\n",
        "\n",
        "1.   1 <= s.length <= 104\n",
        "2.   s contains English letters (upper-case and lower-case), digits, and spaces ' '.\n",
        "3.  There is at least one word in s.\n",
        "\n"
      ],
      "metadata": {
        "id": "_7yDyy_gP0lv"
      }
    },
    {
      "cell_type": "code",
      "execution_count": 1,
      "metadata": {
        "id": "WLyVw85AycNA"
      },
      "outputs": [],
      "source": [
        "def reverseWords(s: str) -> str:\n",
        "  return ' '.join([x for x in s.strip().split(' ') if x][::-1])\n",
        ""
      ]
    },
    {
      "cell_type": "code",
      "source": [
        "print(reverseWords(\"the sky is blue\"))\n",
        "print(reverseWords(\"  hello world  \"))\n",
        "print(reverseWords(\"a good   example    needs      to be    set         \"))\n"
      ],
      "metadata": {
        "colab": {
          "base_uri": "https://localhost:8080/"
        },
        "id": "VQ8S34kgQqGC",
        "outputId": "6ea323b2-25ed-4367-d3d4-093166a87b6e"
      },
      "execution_count": 2,
      "outputs": [
        {
          "output_type": "stream",
          "name": "stdout",
          "text": [
            "blue is sky the\n",
            "world hello\n",
            "set be to needs example good a\n"
          ]
        }
      ]
    },
    {
      "cell_type": "code",
      "source": [],
      "metadata": {
        "id": "lD7NHCSDQ91N"
      },
      "execution_count": null,
      "outputs": []
    }
  ]
}