{
  "nbformat": 4,
  "nbformat_minor": 0,
  "metadata": {
    "colab": {
      "provenance": [],
      "authorship_tag": "ABX9TyMQahOfluPxlU3gjyFHORTq",
      "include_colab_link": true
    },
    "kernelspec": {
      "name": "python3",
      "display_name": "Python 3"
    },
    "language_info": {
      "name": "python"
    }
  },
  "cells": [
    {
      "cell_type": "markdown",
      "metadata": {
        "id": "view-in-github",
        "colab_type": "text"
      },
      "source": [
        "<a href=\"https://colab.research.google.com/github/AkritiGhosh/basic-dsa/blob/main/Leetcode_75/Qu3_Removing_Stars_From_a_String.ipynb\" target=\"_parent\"><img src=\"https://colab.research.google.com/assets/colab-badge.svg\" alt=\"Open In Colab\"/></a>"
      ]
    },
    {
      "cell_type": "markdown",
      "source": [
        "You are given a string s, which contains stars *.\n",
        "\n",
        "\n",
        "In one operation, you can:\n",
        "\n",
        "\n",
        "1. Choose a star in s.\n",
        "2. Remove the closest non-star character to its left, as well as remove the star itself.\n",
        "3. Return the string after all stars have been removed.\n",
        "\n",
        "**Note**:\n",
        "\n",
        "The input will be generated such that the operation is always possible.\n",
        "It can be shown that the resulting string will always be unique.\n",
        "\n",
        "\n",
        "## Example 1:\n",
        "\n",
        "**Input:** s = \"leet\\*\\*cod\\*e\"\n",
        "\n",
        "**Output:** \"lecoe\"\n",
        "\n",
        "**Explanation:** Performing the removals from left to right:\n",
        "- The closest character to the 1st star is 't' in \"leet**cod*e\". s becomes \"lee*cod*e\".\n",
        "- The closest character to the 2nd star is 'e' in \"lee*cod*e\". s becomes \"lecod*e\".\n",
        "- The closest character to the 3rd star is 'd' in \"lecod*e\". s becomes \"lecoe\".\n",
        "There are no more stars, so we return \"lecoe\".\n",
        "\n",
        "## Example 2:\n",
        "\n",
        "**Input:** s = \"erase*****\"\n",
        "\n",
        "**Output:** \"\"\n",
        "\n",
        "**Explanation:** The entire string is removed, so we return an empty string.\n",
        ""
      ],
      "metadata": {
        "id": "cFLmW7z6dvrm"
      }
    },
    {
      "cell_type": "code",
      "execution_count": 1,
      "metadata": {
        "id": "PFBFxnkQXhY5"
      },
      "outputs": [],
      "source": [
        "def removeStars(s: str) -> str:\n",
        "  lst = []\n",
        "  for i in s :\n",
        "      if ( i != '*'):\n",
        "          lst.append(i)\n",
        "      else :\n",
        "          lst.pop()\n",
        "  return ''.join(lst)\n",
        ""
      ]
    },
    {
      "cell_type": "code",
      "source": [
        "print(removeStars('leet**code'))\n",
        "print(removeStars('leetc*o*d*e*'))\n",
        "print(removeStars('leetcode****'))"
      ],
      "metadata": {
        "colab": {
          "base_uri": "https://localhost:8080/"
        },
        "id": "piZHM7YxeLka",
        "outputId": "9d70d81b-6f82-498a-8284-f6d77facab02"
      },
      "execution_count": 2,
      "outputs": [
        {
          "output_type": "stream",
          "name": "stdout",
          "text": [
            "lecode\n",
            "leet\n",
            "leet\n"
          ]
        }
      ]
    },
    {
      "cell_type": "code",
      "source": [],
      "metadata": {
        "id": "FM-arVwGeiki"
      },
      "execution_count": null,
      "outputs": []
    }
  ]
}
