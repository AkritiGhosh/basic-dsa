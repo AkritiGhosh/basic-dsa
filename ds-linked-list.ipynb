{
 "cells": [
  {
   "cell_type": "markdown",
   "id": "76dfd4b0-1aeb-4a65-8a32-cfb25e49f210",
   "metadata": {},
   "source": [
    "# Linked List\n",
    "Linear data structure, similar to array.\n"
   ]
  },
  {
   "cell_type": "code",
   "execution_count": 1,
   "id": "e8595e8e-2c1b-4eb6-8d06-cec4112b04fe",
   "metadata": {},
   "outputs": [],
   "source": [
    "class Node:\n",
    "    def __init__(self, data=int):\n",
    "        self.data = data\n",
    "        self.next = None"
   ]
  },
  {
   "cell_type": "code",
   "execution_count": 12,
   "id": "c3b3862d-690b-455f-a665-2431df6dadc7",
   "metadata": {},
   "outputs": [],
   "source": [
    "class LinkedList:\n",
    "    def __init__(self, node = Node(None)):\n",
    "        self.head = node\n",
    "    \n",
    "#     Create a linked list from an array\n",
    "    def array_to_linked_list(self, arr, n):\n",
    "        for i in range(n):\n",
    "            new_node = Node(arr[i])\n",
    "            if self.head.data == None:\n",
    "                self.head = new_node\n",
    "                continue\n",
    "            iter_node = self.head\n",
    "            while iter_node.next != None:\n",
    "                iter_node = iter_node.next\n",
    "            iter_node.next = new_node\n",
    "        self.print()\n",
    "        return\n",
    "\n",
    "#     Print all elements of list\n",
    "    def print(self):\n",
    "        iter_node = self.head\n",
    "        while iter_node != None:\n",
    "            print(iter_node.data, end=\" \")\n",
    "            iter_node = iter_node.next\n",
    "        print()\n",
    "    \n",
    "#     Shortcut-cheat version\n",
    "    def print_reversed(self):\n",
    "        node_list=[]\n",
    "        iter_node = self.head\n",
    "        while iter_node != None:\n",
    "            node_list.append(iter_node.data)\n",
    "            iter_node = iter_node.next\n",
    "        node_list.reverse()\n",
    "        print(node_list)\n",
    "        \n",
    "#     Reverse a linked list\n",
    "    def reverse(self):\n",
    "        iter_node = self.head\n",
    "        prev = None\n",
    "        while iter_node != None:\n",
    "            next_node = iter_node.next\n",
    "            iter_node.next = prev\n",
    "            prev = iter_node\n",
    "            iter_node = next_node\n",
    "        self.head = prev\n",
    "        self.print()\n",
    "        return\n",
    "\n",
    "#     Add element at first node of existing linked list\n",
    "    def add_at_first(self, data):\n",
    "        #  If list is empty\n",
    "        if self.head.data == None:\n",
    "            self.head = Node(data)\n",
    "            self.print()\n",
    "            return\n",
    "        new_node = Node(data)\n",
    "        temp = self.head\n",
    "        new_node.next = temp\n",
    "        self.head = new_node\n",
    "        self.print()\n",
    "        return\n",
    "\n",
    "#     Add element at last node of existing linked list\n",
    "    def add_at_last(self, data):\n",
    "        #  If list is empty\n",
    "        if self.head.data == None:\n",
    "            self.head = Node(data)\n",
    "            self.print()\n",
    "            return\n",
    "        new_node = Node(data)\n",
    "        iter_node = self.head\n",
    "        while iter_node.next != None:\n",
    "            iter_node = iter_node.next\n",
    "        iter_node.next = new_node\n",
    "        self.print()\n",
    "        return        \n",
    "\n",
    "#     Add element after nth node of existing linked list\n",
    "    def add_after_n(self, data, n):\n",
    "        #  If list is empty\n",
    "        if self.head.data == None:\n",
    "            self.head = Node(data)\n",
    "            print('List is empty, add element in 1st position')\n",
    "            self.print()\n",
    "            return\n",
    "        new_node = Node(data)\n",
    "        iter_node = self.head\n",
    "        for i in range(n):\n",
    "            # If n is out of list index range             \n",
    "            if iter_node == None:\n",
    "                print('Index Error')\n",
    "                return\n",
    "            iter_node=iter_node.next\n",
    "        temp = iter_node.next\n",
    "        new_node.next = temp\n",
    "        iter_node.next = new_node\n",
    "        self.print()\n",
    "        return\n",
    "\n",
    "#     Delete first node of existing linked list\n",
    "    def delete_first_node(self):\n",
    "        #  If list is empty\n",
    "        if self.head.data == None:\n",
    "            print('Empty List, nothing to delete')\n",
    "            return\n",
    "        self.head = self.head.next\n",
    "        print('1st Element deleted', end=\"\")\n",
    "        # If list has only 1 node         \n",
    "        if self.head.next == None:\n",
    "            print(', list is now empty', end=\"\")\n",
    "        print()\n",
    "        self.print()\n",
    "        return\n",
    "        \n",
    "#     Delete last node of existing linked list\n",
    "    def delete_last_node(self):\n",
    "        #  If list is empty\n",
    "        if self.head.data == None:\n",
    "            print('Empty List, nothing to delete')\n",
    "            return\n",
    "        # If list has only 1 node         \n",
    "        if self.head.next == None:\n",
    "            self.head = None\n",
    "            print('Element deleted, list is now empty')\n",
    "            return\n",
    "        iter_node = self.head\n",
    "        while iter_node.next.next != None:\n",
    "            iter_node = iter_node.next\n",
    "        iter_node.next = None\n",
    "        print('Last element deleted')\n",
    "        self.print()\n",
    "        return\n",
    "        \n",
    "#     Delete nth node of existing linked list\n",
    "    def delete_n_node(self, n):\n",
    "        #  If list is empty\n",
    "        if self.head.data == None:\n",
    "            print('Empty List, nothing to delete')\n",
    "            return\n",
    "        iter_node = self.head\n",
    "        for i in range(n-1):\n",
    "            # If n is out of list index range             \n",
    "            if iter_node == None:\n",
    "                print('Index Error')\n",
    "                return\n",
    "            iter_node=iter_node.next\n",
    "        temp= iter_node.next.data\n",
    "        iter_node.next = iter_node.next.next\n",
    "        print('Node ',n,', containing value', temp,' has been deleted')\n",
    "        self.print()\n",
    "        return\n",
    "        \n",
    "#     Delete node with data = n  of existing linked list\n",
    "    def delete_n_node(self, n):\n",
    "        #  If list is empty\n",
    "        if self.head.data == None:\n",
    "            print('Empty List, nothing to delete')\n",
    "            return\n",
    "        iter_node = self.head\n",
    "        while iter_node.next != None:\n",
    "            # If n is out of list index range             \n",
    "            if iter_node.next.data == n:\n",
    "                iter_node.next = iter_node.next.next\n",
    "                print('Node containing value', n,' has been deleted')\n",
    "                self.print()\n",
    "                return\n",
    "            iter_node=iter_node.next\n",
    "        print()\n",
    "        return\n"
   ]
  },
  {
   "cell_type": "code",
   "execution_count": 3,
   "id": "fddcdd8f-4f36-45b9-9983-bfd2abaedd26",
   "metadata": {},
   "outputs": [
    {
     "name": "stdout",
     "output_type": "stream",
     "text": [
      "1 2 3 \n"
     ]
    }
   ],
   "source": [
    "# Checking default constructors and printing function\n",
    "ll = LinkedList()\n",
    "ll.head = Node(1)\n",
    "second = Node(2)\n",
    "ll.head.next = second;\n",
    "third = Node(3)\n",
    "second.next = third;\n",
    "ll.print()"
   ]
  },
  {
   "cell_type": "code",
   "execution_count": 4,
   "id": "b75cdaac-7c4e-4286-89f9-d0affe95723c",
   "metadata": {},
   "outputs": [
    {
     "name": "stdout",
     "output_type": "stream",
     "text": [
      "10 20 30 40 50 \n",
      "[50, 40, 30, 20, 10]\n"
     ]
    }
   ],
   "source": [
    "arr_ll = LinkedList()\n",
    "arr = [10,20,30,40,50]\n",
    "arr_ll.array_to_linked_list(arr, len(arr))\n",
    "arr_ll.print_reversed()"
   ]
  },
  {
   "cell_type": "code",
   "execution_count": 5,
   "id": "8a24d980-ed90-4532-97d5-ae7b8d73a872",
   "metadata": {},
   "outputs": [
    {
     "name": "stdout",
     "output_type": "stream",
     "text": [
      "10 20 30 40 50 \n",
      "0 10 20 30 40 50 \n"
     ]
    }
   ],
   "source": [
    "arr_ll = LinkedList()\n",
    "arr = [10,20,30,40,50]\n",
    "arr_ll.array_to_linked_list(arr, len(arr))\n",
    "arr_ll.add_at_first(0)"
   ]
  },
  {
   "cell_type": "code",
   "execution_count": 6,
   "id": "debc530f-4d23-4165-8a52-b0d672ed9c66",
   "metadata": {},
   "outputs": [
    {
     "name": "stdout",
     "output_type": "stream",
     "text": [
      "10 20 30 40 50 \n",
      "10 20 30 40 50 60 \n"
     ]
    }
   ],
   "source": [
    "arr_ll = LinkedList()\n",
    "arr = [10,20,30,40,50]\n",
    "arr_ll.array_to_linked_list(arr, len(arr))\n",
    "arr_ll.add_at_last(60)"
   ]
  },
  {
   "cell_type": "code",
   "execution_count": 7,
   "id": "132ec311-93f1-4c69-ab31-64af5d278ebe",
   "metadata": {},
   "outputs": [
    {
     "name": "stdout",
     "output_type": "stream",
     "text": [
      "10 20 40 50 \n",
      "10 20 30 40 50 \n"
     ]
    }
   ],
   "source": [
    "arr_ll = LinkedList()\n",
    "arr = [10,20,40,50]\n",
    "arr_ll.array_to_linked_list(arr, len(arr))\n",
    "arr_ll.add_after_n(30, 1)"
   ]
  },
  {
   "cell_type": "code",
   "execution_count": 8,
   "id": "292c00a5-89cd-4cec-b7e5-d0492f5efc37",
   "metadata": {},
   "outputs": [
    {
     "name": "stdout",
     "output_type": "stream",
     "text": [
      "10 20 30 40 50 \n",
      "50 40 30 20 10 \n"
     ]
    }
   ],
   "source": [
    "arr_ll = LinkedList()\n",
    "arr = [10,20,30,40,50]\n",
    "arr_ll.array_to_linked_list(arr, len(arr))\n",
    "arr_ll.reverse()"
   ]
  },
  {
   "cell_type": "code",
   "execution_count": 10,
   "id": "d13b3231-a0c1-4a09-bab9-a996a85932ac",
   "metadata": {},
   "outputs": [
    {
     "name": "stdout",
     "output_type": "stream",
     "text": [
      "10 20 30 40 50 \n",
      "Element deleted20 30 40 50 \n",
      "Element deleted\n",
      "20 30 40 \n"
     ]
    }
   ],
   "source": [
    "arr_ll = LinkedList()\n",
    "arr = [10,20,30,40,50]\n",
    "arr_ll.array_to_linked_list(arr, len(arr))\n",
    "arr_ll.delete_first_node()\n",
    "arr_ll.delete_last_node()"
   ]
  },
  {
   "cell_type": "code",
   "execution_count": 13,
   "id": "49fc74de-17d3-4f12-9e99-f2a8a47e47cf",
   "metadata": {},
   "outputs": [
    {
     "name": "stdout",
     "output_type": "stream",
     "text": [
      "10 20 30 40 50 \n",
      "Node  2 , containing value 30  has been deleted\n",
      "10 20 40 50 \n"
     ]
    }
   ],
   "source": [
    "arr_ll = LinkedList()\n",
    "arr = [10,20,30,40,50]\n",
    "arr_ll.array_to_linked_list(arr, len(arr))\n",
    "arr_ll.delete_n_node(2)"
   ]
  },
  {
   "cell_type": "code",
   "execution_count": null,
   "id": "3c160c59-93fa-4ea2-9d4a-2c2a4f8ee4d0",
   "metadata": {},
   "outputs": [],
   "source": []
  }
 ],
 "metadata": {
  "kernelspec": {
   "display_name": "Python 3 (ipykernel)",
   "language": "python",
   "name": "python3"
  },
  "language_info": {
   "codemirror_mode": {
    "name": "ipython",
    "version": 3
   },
   "file_extension": ".py",
   "mimetype": "text/x-python",
   "name": "python",
   "nbconvert_exporter": "python",
   "pygments_lexer": "ipython3",
   "version": "3.9.7"
  }
 },
 "nbformat": 4,
 "nbformat_minor": 5
}
