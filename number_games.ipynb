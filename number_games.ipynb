{
 "cells": [
  {
   "cell_type": "markdown",
   "id": "fcd1e9a1-980f-4761-8dfd-e3ea483c5f98",
   "metadata": {},
   "source": [
    "# Number Games\n",
    "Check or derive different mathematical number "
   ]
  },
  {
   "cell_type": "code",
   "execution_count": 1,
   "id": "02c5f495-cc41-40d5-8b62-082cf13a9995",
   "metadata": {},
   "outputs": [],
   "source": [
    "import math"
   ]
  },
  {
   "cell_type": "markdown",
   "id": "cb5aea04-7b15-45d7-bb62-4c92482c54a1",
   "metadata": {},
   "source": [
    "## Calculate - Factorial Number\n",
    "In python there are 4 different solutions to calculate a number's factorial \n",
    "1.  Iterative method\n",
    "2.  Recursive method\n",
    "3.  1 line recursion\n",
    "4.  math build-in function"
   ]
  },
  {
   "cell_type": "code",
   "execution_count": 2,
   "id": "dbd452b8-041f-4305-b6e0-fa60ce568887",
   "metadata": {},
   "outputs": [],
   "source": [
    "def iterative(n):\n",
    "    if n == 1 or n == 0:\n",
    "        return 1\n",
    "    val = 1\n",
    "    for i in range(1, n+1):\n",
    "        val *= i\n",
    "    return val"
   ]
  },
  {
   "cell_type": "code",
   "execution_count": 3,
   "id": "6fb9ead1-2708-49ba-8d7a-e5d24f20fd63",
   "metadata": {},
   "outputs": [],
   "source": [
    "def recursive(n):\n",
    "    if n==1 or n == 0:\n",
    "        return n\n",
    "    return n * recursive(n-1)"
   ]
  },
  {
   "cell_type": "code",
   "execution_count": 4,
   "id": "7d2bc93b-439f-4069-83ed-e5655620edf4",
   "metadata": {},
   "outputs": [],
   "source": [
    "def recursive_line(n):\n",
    "    return 1 if (n==1 or n == 0) else n * recursive_line(n-1)"
   ]
  },
  {
   "cell_type": "code",
   "execution_count": null,
   "id": "6f3cb7bd-9cb9-478f-8746-eddb2b409305",
   "metadata": {},
   "outputs": [],
   "source": [
    "n = int(input(\"Enter number:\"))\n",
    "#Using built-i function\n",
    "print('Method 1: Built-in :- ', math.factorial(n))\n",
    "print('Method 2: Iteration :- ', iterative(n))\n",
    "print('Method 3: Recursion :- ', recursive(n))\n",
    "print('Method 4: 1 Line Recursion :- ', recursive_line(n))"
   ]
  },
  {
   "cell_type": "markdown",
   "id": "472b64bb-7c73-4460-b209-4babbb8e469c",
   "metadata": {},
   "source": [
    "## Calculate - Fibonacci Series\n",
    "Series, starting with 0,1, in which every element is the sum of it's previous 2 numbers"
   ]
  },
  {
   "cell_type": "code",
   "execution_count": null,
   "id": "9f779c64-b093-4e73-bde5-1c78f06c6bf3",
   "metadata": {},
   "outputs": [],
   "source": [
    "def iterative_fib(n):\n",
    "    if n==0:\n",
    "        print(None)\n",
    "    elif n == 1:\n",
    "        print(0)\n",
    "    elif n == 2:\n",
    "        print(0,1)\n",
    "    else:\n",
    "        n1= 0\n",
    "        n2 = 1\n",
    "        print(n1,n2, end=\" \")\n",
    "        for i in range(2, n):\n",
    "            # print(n1, n2, n1+n2)\n",
    "            n1, n2 = n2, n1+n2\n",
    "            print(n2, end=\" \")"
   ]
  },
  {
   "cell_type": "code",
   "execution_count": null,
   "id": "831347e8-f5c0-4566-a480-976513398c5d",
   "metadata": {},
   "outputs": [],
   "source": [
    "def recursive_fib(n):\n",
    "    if n < 0:\n",
    "        return 0\n",
    "    if n < 2:\n",
    "        return n\n",
    "    else:\n",
    "        return (recursive_fib(n-1) + recursive_fib(n-2))"
   ]
  },
  {
   "cell_type": "code",
   "execution_count": null,
   "id": "47db9475-16e1-4646-9d9f-2ffbbaa8a72a",
   "metadata": {},
   "outputs": [],
   "source": [
    "n = int(input(\"Enter number:\"))\n",
    "print('Method 1: Iteration :- ')\n",
    "iterative_fib(n)\n",
    "print()\n",
    "print('Method 2: Recursion :- ') \n",
    "print([recursive_fib(i) for i in range(n)])"
   ]
  },
  {
   "cell_type": "markdown",
   "id": "5a2c1499-4b3e-44e1-8716-67e65f961170",
   "metadata": {},
   "source": [
    "## Check - Perfect Square\n",
    "Using two approaches - \n",
    "1.  By taking sqaure root\n",
    "2.  Without taking sqaure root - iterative"
   ]
  },
  {
   "cell_type": "code",
   "execution_count": null,
   "id": "e7f39f73-234b-44bd-a373-e264d9883242",
   "metadata": {},
   "outputs": [],
   "source": [
    "def check_with_root(n):\n",
    "  if n>0:\n",
    "    sqrt = math.sqrt(n)\n",
    "    if math.ceil(sqrt) == math.floor(sqrt):\n",
    "      print(True)\n",
    "    else:\n",
    "      print(False)\n",
    "  else:\n",
    "    print(None)"
   ]
  },
  {
   "cell_type": "code",
   "execution_count": null,
   "id": "37223e8b-57b9-41d2-a99e-5a2fcecb6093",
   "metadata": {},
   "outputs": [],
   "source": [
    "def check_without_root(n):\n",
    "  if n <= 0 :\n",
    "    print(None)\n",
    "  elif n == 1:\n",
    "    print(True)\n",
    "  else:\n",
    "    for i in range(n//2,0, -1):\n",
    "      if n/i == i:\n",
    "        print(True)\n",
    "        break\n",
    "      elif n/i < i:\n",
    "        continue\n",
    "      else:\n",
    "        print(False)\n",
    "        break"
   ]
  },
  {
   "cell_type": "code",
   "execution_count": null,
   "id": "cfaaf76c-60fd-4194-89ea-6840c3a1a1b2",
   "metadata": {},
   "outputs": [],
   "source": [
    "n = int(input(\"Enter number:\"))\n",
    "print('By taking the square root : ', end= \"\")\n",
    "check_with_root(n)\n",
    "print('Without taking the square root : ', end= \"\")\n",
    "check_without_root(n)"
   ]
  },
  {
   "cell_type": "markdown",
   "id": "9d6dba07-c4a1-46ae-b97c-bcb40ab1393d",
   "metadata": {},
   "source": [
    "## Check - Armstrong Number\n",
    "If the sum of cube of digits of a number is equal to the number itself, it is called an Armstrong number.\n",
    "Using 2 approaches - \n",
    "1. Iterative\n",
    "2. Using lambda & map()"
   ]
  },
  {
   "cell_type": "code",
   "execution_count": null,
   "id": "94a21a01-4767-406f-b11e-e21ba6ccd499",
   "metadata": {},
   "outputs": [],
   "source": [
    "def naive_approach(n):\n",
    "  remainder=sum_val=0\n",
    "  m = int(n)\n",
    "  while n > 0:\n",
    "    remainder = n%10\n",
    "    sum_val += remainder**3\n",
    "    n = n//10 \n",
    "  if sum_val == m :\n",
    "    print('An armstrong number')\n",
    "  else:\n",
    "    print('Not an armstrong number')"
   ]
  },
  {
   "cell_type": "code",
   "execution_count": null,
   "id": "4fc6abbb-685a-4537-a887-c2117c78bb01",
   "metadata": {},
   "outputs": [],
   "source": [
    "def with_lambda(n):\n",
    "  digits = [int(x) for x in str(n)]\n",
    "  sum_val = sum(map(lambda i : i ** 3, digits))\n",
    "  if sum_val == n :\n",
    "    print('An armstrong number')\n",
    "  else:\n",
    "    print('Not an armstrong number')"
   ]
  },
  {
   "cell_type": "code",
   "execution_count": null,
   "id": "8eb8dac8-2267-4309-be77-80123b15e08b",
   "metadata": {},
   "outputs": [],
   "source": [
    "n = int(input('Enter number to check : '))\n",
    "naive_approach(n)\n",
    "with_lambda(n)"
   ]
  },
  {
   "cell_type": "markdown",
   "id": "3700dd7f-5363-4776-bcea-d54267103089",
   "metadata": {},
   "source": [
    "## Check - Automorphic Number\n",
    "An automorphic number is an integer whose square ends with the given integer"
   ]
  },
  {
   "cell_type": "code",
   "execution_count": null,
   "id": "59101960-2cd4-4dd7-93cf-4334d21bd6f2",
   "metadata": {},
   "outputs": [],
   "source": [
    "def naive_iterator(n):\n",
    "    sqn = n*n\n",
    "    x = 1\n",
    "    while x < n:\n",
    "        ten = 10 ** x\n",
    "        if n <= ten:\n",
    "            rem = sqn % ten;\n",
    "            if rem == n:\n",
    "                continue\n",
    "            else:\n",
    "                return False\n",
    "        else:\n",
    "            break\n",
    "        x+=1\n",
    "    return True"
   ]
  },
  {
   "cell_type": "code",
   "execution_count": null,
   "id": "b0bcef9c-15d6-4deb-998d-0bcbc349baed",
   "metadata": {},
   "outputs": [],
   "source": [
    "def using_list(n):\n",
    "    digits = [int(x) for x in str(n)]\n",
    "    if not (digits[-1] == 1 or digits[-1] == 5 or digits[-1] == 6 ):\n",
    "        return False\n",
    "    sq_digs = [int(x) for x in str(n**2)]\n",
    "    len_n = len(digits)\n",
    "    len_sq = len(sq_digs) - len_n\n",
    "    new_sq = sq_digs[len_sq : len(sq_digs)]\n",
    "    # print(new_sq)\n",
    "    if new_sq == digits:\n",
    "        return True        \n",
    "    else:\n",
    "        return False"
   ]
  },
  {
   "cell_type": "code",
   "execution_count": null,
   "id": "99434706-2517-4742-90ad-20b9bead3cc0",
   "metadata": {
    "tags": []
   },
   "outputs": [],
   "source": [
    "n = int(input('Enter number to check : '))\n",
    "if n < 10:\n",
    "    if n==5 or n==6 or n==1:\n",
    "        print(True)\n",
    "    else:\n",
    "        print(False)\n",
    "# print(naive_iterator(n))\n",
    "print(using_list(n))"
   ]
  },
  {
   "cell_type": "markdown",
   "id": "e7e4a063-7d1e-4cab-8d98-2b3f274dc54d",
   "metadata": {
    "tags": []
   },
   "source": [
    "## Check - Pallindrome (number and string)\n",
    "Pallindrome is a string or number or a sequence of characters which when reversed is equal to the original"
   ]
  },
  {
   "cell_type": "code",
   "execution_count": null,
   "id": "bea07221-ff97-41dc-a2aa-9bee1a432bbf",
   "metadata": {},
   "outputs": [],
   "source": [
    "def check_pallindrome(seq):\n",
    "    chars = [x for x in str(seq).lower()]\n",
    "    if len(chars)==1:\n",
    "        return True\n",
    "    if chars == chars[::-1]:\n",
    "        return True\n",
    "    else:\n",
    "        return False"
   ]
  },
  {
   "cell_type": "code",
   "execution_count": null,
   "id": "4a659f75-3e2c-4f81-be16-0b058f930483",
   "metadata": {},
   "outputs": [],
   "source": [
    "inp = input('Enter number or string: ')\n",
    "print(check_pallindrome(inp))"
   ]
  },
  {
   "cell_type": "markdown",
   "id": "c2d7a930-660b-4e4d-ab6d-091cb36906ac",
   "metadata": {},
   "source": [
    "## Check - Prime Number or Calculate - Factors of a number"
   ]
  },
  {
   "cell_type": "code",
   "execution_count": null,
   "id": "2e72f465-628f-4c5c-8951-58a00178ece6",
   "metadata": {},
   "outputs": [],
   "source": [
    "n = int(input('Enter number : '))\n",
    "factors = []\n",
    "for x in range(1, n+1):\n",
    "    if n%x == 0:\n",
    "        factors.append(x)\n",
    "print('Factors of ',n, ' are - ', factors, end='')\n",
    "if len(factors) == 2:\n",
    "    print(', which means it is a prime number')\n"
   ]
  },
  {
   "cell_type": "markdown",
   "id": "91c83f7e-6c85-49f1-a278-28436d4fd3b3",
   "metadata": {},
   "source": [
    "## Check - Pronic Number\n",
    "Number which is the product of 2 consecutive number"
   ]
  },
  {
   "cell_type": "code",
   "execution_count": null,
   "id": "6a108490-c1b4-4d21-b092-8744f396573d",
   "metadata": {},
   "outputs": [],
   "source": [
    "n = int(input('Enter number : '))\n",
    "sqrt =math.sqrt(n)\n",
    "if math.ceil(sqrt) * math.floor(sqrt) == n:\n",
    "    print(True)\n",
    "else:\n",
    "    print(False)"
   ]
  },
  {
   "cell_type": "code",
   "execution_count": null,
   "id": "c1755dc4-ad35-4399-9121-4707c5126002",
   "metadata": {},
   "outputs": [],
   "source": []
  }
 ],
 "metadata": {
  "kernelspec": {
   "display_name": "Python 3 (ipykernel)",
   "language": "python",
   "name": "python3"
  },
  "language_info": {
   "codemirror_mode": {
    "name": "ipython",
    "version": 3
   },
   "file_extension": ".py",
   "mimetype": "text/x-python",
   "name": "python",
   "nbconvert_exporter": "python",
   "pygments_lexer": "ipython3",
   "version": "3.9.7"
  }
 },
 "nbformat": 4,
 "nbformat_minor": 5
}
